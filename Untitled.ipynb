{
 "cells": [
  {
   "cell_type": "code",
   "execution_count": null,
   "metadata": {},
   "outputs": [],
   "source": []
  },
  {
   "cell_type": "code",
   "execution_count": 2,
   "metadata": {},
   "outputs": [],
   "source": [
    "import findspark\n",
    "findspark.init('/home/ubuntu/spark-2.1.1-bin-hadoop2.7')\n"
   ]
  },
  {
   "cell_type": "code",
   "execution_count": null,
   "metadata": {},
   "outputs": [],
   "source": []
  },
  {
   "cell_type": "code",
   "execution_count": 3,
   "metadata": {},
   "outputs": [],
   "source": [
    "import pyspark"
   ]
  },
  {
   "cell_type": "code",
   "execution_count": 4,
   "metadata": {},
   "outputs": [],
   "source": [
    "from pyspark.sql import SparkSession\n",
    "spark = SparkSession.builder.appName('basics').getOrCreate()\n"
   ]
  },
  {
   "cell_type": "code",
   "execution_count": 18,
   "metadata": {},
   "outputs": [],
   "source": [
    "df1 = spark.read.csv('ehact_2014.csv',header =True)\n",
    "df2 = spark.read.csv('ehresp_2014.csv',header=True)"
   ]
  },
  {
   "cell_type": "code",
   "execution_count": 21,
   "metadata": {},
   "outputs": [
    {
     "name": "stdout",
     "output_type": "stream",
     "text": [
      "+--------------+------------+--------+------+--------+\n",
      "|      tucaseid|tuactivity_n|eueatsum|euedur|euedur24|\n",
      "+--------------+------------+--------+------+--------+\n",
      "|20140101140007|           1|      -1|    -1|      -1|\n",
      "|20140101140007|           2|      -1|    -1|      -1|\n",
      "|20140101140007|           3|      -1|    -1|      -1|\n",
      "|20140101140007|           4|      -1|    -1|      -1|\n",
      "|20140101140007|           5|      -1|    -1|      -1|\n",
      "|20140101140007|           6|      -1|    -1|      -1|\n",
      "|20140101140007|           7|       1|     2|       2|\n",
      "|20140101140007|           8|      -1|    -1|      -1|\n",
      "|20140101140007|           9|      -1|    -1|      -1|\n",
      "|20140101140007|          10|      -1|    -1|      -1|\n",
      "+--------------+------------+--------+------+--------+\n",
      "only showing top 10 rows\n",
      "\n"
     ]
    }
   ],
   "source": [
    "df1.show(10)"
   ]
  },
  {
   "cell_type": "code",
   "execution_count": 17,
   "metadata": {},
   "outputs": [
    {
     "data": {
      "text/plain": [
       "['tucaseid', 'tuactivity_n', 'eueatsum', 'euedur', 'euedur24']"
      ]
     },
     "execution_count": 17,
     "metadata": {},
     "output_type": "execute_result"
    }
   ],
   "source": [
    "df1.columns"
   ]
  },
  {
   "cell_type": "code",
   "execution_count": 19,
   "metadata": {},
   "outputs": [
    {
     "data": {
      "text/plain": [
       "['tucaseid',\n",
       " 'tulineno',\n",
       " 'eeincome1',\n",
       " 'erbmi',\n",
       " 'erhhch',\n",
       " 'erincome',\n",
       " 'erspemch',\n",
       " 'ertpreat',\n",
       " 'ertseat',\n",
       " 'ethgt',\n",
       " 'etwgt',\n",
       " 'eudietsoda',\n",
       " 'eudrink',\n",
       " 'eueat',\n",
       " 'euexercise',\n",
       " 'euexfreq',\n",
       " 'eufastfd',\n",
       " 'eufastfdfrq',\n",
       " 'euffyday',\n",
       " 'eufdsit',\n",
       " 'eufinlwgt',\n",
       " 'eusnap',\n",
       " 'eugenhth',\n",
       " 'eugroshp',\n",
       " 'euhgt',\n",
       " 'euinclvl',\n",
       " 'euincome2',\n",
       " 'eumeat',\n",
       " 'eumilk',\n",
       " 'euprpmel',\n",
       " 'eusoda',\n",
       " 'eustores',\n",
       " 'eustreason',\n",
       " 'eutherm',\n",
       " 'euwgt',\n",
       " 'euwic',\n",
       " 'exincome1']"
      ]
     },
     "execution_count": 19,
     "metadata": {},
     "output_type": "execute_result"
    }
   ],
   "source": [
    "df2.columns"
   ]
  },
  {
   "cell_type": "code",
   "execution_count": 23,
   "metadata": {},
   "outputs": [
    {
     "name": "stdout",
     "output_type": "stream",
     "text": [
      "root\n",
      " |-- tucaseid: string (nullable = true)\n",
      " |-- tulineno: string (nullable = true)\n",
      " |-- eeincome1: string (nullable = true)\n",
      " |-- erbmi: string (nullable = true)\n",
      " |-- erhhch: string (nullable = true)\n",
      " |-- erincome: string (nullable = true)\n",
      " |-- erspemch: string (nullable = true)\n",
      " |-- ertpreat: string (nullable = true)\n",
      " |-- ertseat: string (nullable = true)\n",
      " |-- ethgt: string (nullable = true)\n",
      " |-- etwgt: string (nullable = true)\n",
      " |-- eudietsoda: string (nullable = true)\n",
      " |-- eudrink: string (nullable = true)\n",
      " |-- eueat: string (nullable = true)\n",
      " |-- euexercise: string (nullable = true)\n",
      " |-- euexfreq: string (nullable = true)\n",
      " |-- eufastfd: string (nullable = true)\n",
      " |-- eufastfdfrq: string (nullable = true)\n",
      " |-- euffyday: string (nullable = true)\n",
      " |-- eufdsit: string (nullable = true)\n",
      " |-- eufinlwgt: string (nullable = true)\n",
      " |-- eusnap: string (nullable = true)\n",
      " |-- eugenhth: string (nullable = true)\n",
      " |-- eugroshp: string (nullable = true)\n",
      " |-- euhgt: string (nullable = true)\n",
      " |-- euinclvl: string (nullable = true)\n",
      " |-- euincome2: string (nullable = true)\n",
      " |-- eumeat: string (nullable = true)\n",
      " |-- eumilk: string (nullable = true)\n",
      " |-- euprpmel: string (nullable = true)\n",
      " |-- eusoda: string (nullable = true)\n",
      " |-- eustores: string (nullable = true)\n",
      " |-- eustreason: string (nullable = true)\n",
      " |-- eutherm: string (nullable = true)\n",
      " |-- euwgt: string (nullable = true)\n",
      " |-- euwic: string (nullable = true)\n",
      " |-- exincome1: string (nullable = true)\n",
      "\n"
     ]
    }
   ],
   "source": [
    "df2.printSchema()"
   ]
  },
  {
   "cell_type": "code",
   "execution_count": 24,
   "metadata": {},
   "outputs": [],
   "source": [
    "from pyspark.sql.types import (StructField,StringType,IntegerType,StructType)"
   ]
  },
  {
   "cell_type": "code",
   "execution_count": null,
   "metadata": {},
   "outputs": [],
   "source": [
    "data_schema = [StructField('age',IntegerType(),True),\n",
    "              StructField('name',StringType(),True)]\n",
    "\n",
    "final_struct = StructType(fields=data_schema)"
   ]
  },
  {
   "cell_type": "code",
   "execution_count": 1,
   "metadata": {},
   "outputs": [],
   "source": [
    "import pandas as pd"
   ]
  },
  {
   "cell_type": "code",
   "execution_count": null,
   "metadata": {},
   "outputs": [],
   "source": []
  },
  {
   "cell_type": "code",
   "execution_count": 9,
   "metadata": {},
   "outputs": [],
   "source": [
    "columns = ['g']"
   ]
  },
  {
   "cell_type": "code",
   "execution_count": 8,
   "metadata": {},
   "outputs": [],
   "source": [
    "l1 = [4,67,87]"
   ]
  },
  {
   "cell_type": "code",
   "execution_count": 12,
   "metadata": {},
   "outputs": [],
   "source": [
    "df = pd.DataFrame(l1, columns = columns)"
   ]
  },
  {
   "cell_type": "code",
   "execution_count": 13,
   "metadata": {},
   "outputs": [
    {
     "data": {
      "text/html": [
       "<div>\n",
       "<style scoped>\n",
       "    .dataframe tbody tr th:only-of-type {\n",
       "        vertical-align: middle;\n",
       "    }\n",
       "\n",
       "    .dataframe tbody tr th {\n",
       "        vertical-align: top;\n",
       "    }\n",
       "\n",
       "    .dataframe thead th {\n",
       "        text-align: right;\n",
       "    }\n",
       "</style>\n",
       "<table border=\"1\" class=\"dataframe\">\n",
       "  <thead>\n",
       "    <tr style=\"text-align: right;\">\n",
       "      <th></th>\n",
       "      <th>g</th>\n",
       "    </tr>\n",
       "  </thead>\n",
       "  <tbody>\n",
       "    <tr>\n",
       "      <th>0</th>\n",
       "      <td>4</td>\n",
       "    </tr>\n",
       "    <tr>\n",
       "      <th>1</th>\n",
       "      <td>67</td>\n",
       "    </tr>\n",
       "    <tr>\n",
       "      <th>2</th>\n",
       "      <td>87</td>\n",
       "    </tr>\n",
       "  </tbody>\n",
       "</table>\n",
       "</div>"
      ],
      "text/plain": [
       "    g\n",
       "0   4\n",
       "1  67\n",
       "2  87"
      ]
     },
     "execution_count": 13,
     "metadata": {},
     "output_type": "execute_result"
    }
   ],
   "source": [
    "df.head()"
   ]
  },
  {
   "cell_type": "code",
   "execution_count": 14,
   "metadata": {},
   "outputs": [
    {
     "data": {
      "text/plain": [
       "0     4\n",
       "1    67\n",
       "2    87\n",
       "Name: g, dtype: int64"
      ]
     },
     "execution_count": 14,
     "metadata": {},
     "output_type": "execute_result"
    }
   ],
   "source": [
    "df['g']"
   ]
  },
  {
   "cell_type": "code",
   "execution_count": 17,
   "metadata": {},
   "outputs": [
    {
     "data": {
      "text/plain": [
       "True     2\n",
       "False    1\n",
       "Name: g, dtype: int64"
      ]
     },
     "execution_count": 17,
     "metadata": {},
     "output_type": "execute_result"
    }
   ],
   "source": [
    "(df.g >10).value_counts()"
   ]
  },
  {
   "cell_type": "code",
   "execution_count": 18,
   "metadata": {},
   "outputs": [
    {
     "data": {
      "text/html": [
       "<div>\n",
       "<style scoped>\n",
       "    .dataframe tbody tr th:only-of-type {\n",
       "        vertical-align: middle;\n",
       "    }\n",
       "\n",
       "    .dataframe tbody tr th {\n",
       "        vertical-align: top;\n",
       "    }\n",
       "\n",
       "    .dataframe thead th {\n",
       "        text-align: right;\n",
       "    }\n",
       "</style>\n",
       "<table border=\"1\" class=\"dataframe\">\n",
       "  <thead>\n",
       "    <tr style=\"text-align: right;\">\n",
       "      <th></th>\n",
       "      <th>g</th>\n",
       "    </tr>\n",
       "  </thead>\n",
       "  <tbody>\n",
       "    <tr>\n",
       "      <th>0</th>\n",
       "      <td>104</td>\n",
       "    </tr>\n",
       "    <tr>\n",
       "      <th>1</th>\n",
       "      <td>167</td>\n",
       "    </tr>\n",
       "    <tr>\n",
       "      <th>2</th>\n",
       "      <td>187</td>\n",
       "    </tr>\n",
       "  </tbody>\n",
       "</table>\n",
       "</div>"
      ],
      "text/plain": [
       "     g\n",
       "0  104\n",
       "1  167\n",
       "2  187"
      ]
     },
     "execution_count": 18,
     "metadata": {},
     "output_type": "execute_result"
    }
   ],
   "source": [
    "df.apply(lambda x: x+ 100 if x= 67 else 0)"
   ]
  },
  {
   "cell_type": "code",
   "execution_count": null,
   "metadata": {},
   "outputs": [],
   "source": []
  }
 ],
 "metadata": {
  "kernelspec": {
   "display_name": "Python 3",
   "language": "python",
   "name": "python3"
  },
  "language_info": {
   "codemirror_mode": {
    "name": "ipython",
    "version": 3
   },
   "file_extension": ".py",
   "mimetype": "text/x-python",
   "name": "python",
   "nbconvert_exporter": "python",
   "pygments_lexer": "ipython3",
   "version": "3.5.2"
  }
 },
 "nbformat": 4,
 "nbformat_minor": 2
}
