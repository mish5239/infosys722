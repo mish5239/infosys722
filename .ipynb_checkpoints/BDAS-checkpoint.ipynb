{
 "cells": [
  {
   "cell_type": "code",
   "execution_count": null,
   "metadata": {},
   "outputs": [],
   "source": []
  },
  {
   "cell_type": "code",
   "execution_count": 1,
   "metadata": {},
   "outputs": [],
   "source": [
    "import findspark\n",
    "findspark.init('/home/ubuntu/spark-2.1.1-bin-hadoop2.7')\n",
    "import pyspark\n",
    "import numpy as np\n",
    "import matplotlib.pyplot as plt\n",
    "from pyspark.sql import functions as F\n",
    "import pandas as pd"
   ]
  },
  {
   "cell_type": "code",
   "execution_count": 2,
   "metadata": {},
   "outputs": [],
   "source": [
    "from pyspark.sql import SparkSession\n",
    "spark = SparkSession.builder.appName('basics').getOrCreate()"
   ]
  },
  {
   "cell_type": "code",
   "execution_count": 3,
   "metadata": {},
   "outputs": [],
   "source": [
    "df1 = spark.read.csv('ehact_2014.csv',header =True,inferSchema=True)\n",
    "df2 = spark.read.csv('ehresp_2014.csv',header=True,inferSchema=True)"
   ]
  },
  {
   "cell_type": "code",
   "execution_count": 4,
   "metadata": {},
   "outputs": [
    {
     "name": "stdout",
     "output_type": "stream",
     "text": [
      "+--------------+--------+---------+---------+------+--------+--------+--------+-------+-----+-----+----------+-------+-----+----------+--------+--------+-----------+--------+-------+---------+------+--------+--------+-----+--------+---------+------+------+--------+------+--------+----------+-------+-----+-----+---------+\n",
      "|      tucaseid|tulineno|eeincome1|    erbmi|erhhch|erincome|erspemch|ertpreat|ertseat|ethgt|etwgt|eudietsoda|eudrink|eueat|euexercise|euexfreq|eufastfd|eufastfdfrq|euffyday|eufdsit|eufinlwgt|eusnap|eugenhth|eugroshp|euhgt|euinclvl|euincome2|eumeat|eumilk|euprpmel|eusoda|eustores|eustreason|eutherm|euwgt|euwic|exincome1|\n",
      "+--------------+--------+---------+---------+------+--------+--------+--------+-------+-----+-----+----------+-------+-----+----------+--------+--------+-----------+--------+-------+---------+------+--------+--------+-----+--------+---------+------+------+--------+------+--------+----------+-------+-----+-----+---------+\n",
      "|20140101140007|       1|       -2|33.200001|     1|      -1|      -1|      30|      2|    0|    0|        -1|      2|    1|         2|      -1|       2|         -1|      -1|      1|5202086.0|     1|       1|       1|   60|       5|       -2|     1|     2|       1|    -1|       2|         1|      2|  170|    1|        2|\n",
      "|20140101140011|       1|        1|22.700001|     3|       1|      -1|      45|     14|    0|    0|        -1|      2|    1|         2|      -1|       1|          1|       2|      1|   2.94E7|     2|       2|       3|   63|       5|       -1|     1|     2|       1|    -1|       1|         2|      2|  128|    2|        0|\n",
      "|20140101140028|       1|        2|49.400002|     3|       5|      -1|      60|      0|    0|    0|        -1|      1|    2|         2|      -1|       2|         -1|      -1|      1|    2.6E7|     2|       5|       2|   62|       5|        2|    -1|    -1|       2|     2|      -1|        -1|     -1|  270|    2|       12|\n",
      "|20140101140063|       1|       -2|     -1.0|     3|      -1|      -1|       0|      0|    0|   -1|         2|      1|    2|         2|      -1|       2|         -1|      -1|      1|2728880.0|     2|       2|       1|   64|       5|       -2|     2|     2|       1|     1|       2|         6|     -1|   -2|    2|        2|\n",
      "|20140101140168|       1|        2|     31.0|     3|       5|      -1|      65|      0|    0|    0|        -1|      1|    2|         1|       5|       2|         -1|      -1|      1|   1.75E7|     1|       4|       1|   69|       5|        2|     1|     2|       1|     2|       1|         1|      2|  210|    1|        0|\n",
      "|20140101140559|       1|        1|30.700001|     3|       1|       1|      20|     10|    0|    0|         1|      1|    1|         1|       2|       1|          3|       1|      1|3661280.0|     2|       3|       2|   71|       5|       -1|    -1|    -1|       2|     1|      -1|        -1|     -1|  220|    2|        0|\n",
      "|20140101140610|       1|        1|33.299999|     1|       1|       5|      30|      5|    0|    0|        -1|      1|    1|         2|      -1|       1|          3|       2|      1|   1.16E7|     2|       2|       3|   65|       5|       -1|     1|     2|       3|     2|       2|         5|      2|  200|    2|        0|\n",
      "|20140101140614|       1|        1|     27.5|     3|       1|      -1|      30|      5|    0|    0|        -1|      2|    1|         1|       3|       1|          1|       2|      1|1969350.0|     2|       2|       1|   63|       5|       -1|     1|     2|       1|    -1|       1|         3|      2|  155|   -1|        0|\n",
      "|20140101140639|       1|        1|25.799999|     3|       1|      -1|     117|     10|    0|    0|        -1|      2|    1|         1|       6|       2|         -1|      -1|      1|6077105.0|     2|       3|       1|   70|       5|       -1|     1|     2|       1|    -1|       1|         4|      2|  180|   -1|        0|\n",
      "|20140101140665|       1|        1|28.299999|     3|       1|       5|      80|      0|    0|    0|         2|      1|    2|         2|      -1|       1|          2|       1|      1|5179966.0|     2|       1|       1|   65|       5|       -1|     1|     2|       1|     1|       3|         1|      2|  170|   -1|        0|\n",
      "+--------------+--------+---------+---------+------+--------+--------+--------+-------+-----+-----+----------+-------+-----+----------+--------+--------+-----------+--------+-------+---------+------+--------+--------+-----+--------+---------+------+------+--------+------+--------+----------+-------+-----+-----+---------+\n",
      "only showing top 10 rows\n",
      "\n"
     ]
    }
   ],
   "source": [
    "df2.show(10)"
   ]
  },
  {
   "cell_type": "code",
   "execution_count": 5,
   "metadata": {},
   "outputs": [
    {
     "name": "stdout",
     "output_type": "stream",
     "text": [
      "root\n",
      " |-- tucaseid: long (nullable = true)\n",
      " |-- tulineno: integer (nullable = true)\n",
      " |-- eeincome1: integer (nullable = true)\n",
      " |-- erbmi: double (nullable = true)\n",
      " |-- erhhch: integer (nullable = true)\n",
      " |-- erincome: integer (nullable = true)\n",
      " |-- erspemch: integer (nullable = true)\n",
      " |-- ertpreat: integer (nullable = true)\n",
      " |-- ertseat: integer (nullable = true)\n",
      " |-- ethgt: integer (nullable = true)\n",
      " |-- etwgt: integer (nullable = true)\n",
      " |-- eudietsoda: integer (nullable = true)\n",
      " |-- eudrink: integer (nullable = true)\n",
      " |-- eueat: integer (nullable = true)\n",
      " |-- euexercise: integer (nullable = true)\n",
      " |-- euexfreq: integer (nullable = true)\n",
      " |-- eufastfd: integer (nullable = true)\n",
      " |-- eufastfdfrq: integer (nullable = true)\n",
      " |-- euffyday: integer (nullable = true)\n",
      " |-- eufdsit: integer (nullable = true)\n",
      " |-- eufinlwgt: double (nullable = true)\n",
      " |-- eusnap: integer (nullable = true)\n",
      " |-- eugenhth: integer (nullable = true)\n",
      " |-- eugroshp: integer (nullable = true)\n",
      " |-- euhgt: integer (nullable = true)\n",
      " |-- euinclvl: integer (nullable = true)\n",
      " |-- euincome2: integer (nullable = true)\n",
      " |-- eumeat: integer (nullable = true)\n",
      " |-- eumilk: integer (nullable = true)\n",
      " |-- euprpmel: integer (nullable = true)\n",
      " |-- eusoda: integer (nullable = true)\n",
      " |-- eustores: integer (nullable = true)\n",
      " |-- eustreason: integer (nullable = true)\n",
      " |-- eutherm: integer (nullable = true)\n",
      " |-- euwgt: integer (nullable = true)\n",
      " |-- euwic: integer (nullable = true)\n",
      " |-- exincome1: integer (nullable = true)\n",
      "\n"
     ]
    }
   ],
   "source": [
    "df2.printSchema()"
   ]
  },
  {
   "cell_type": "code",
   "execution_count": 6,
   "metadata": {},
   "outputs": [
    {
     "data": {
      "text/plain": [
       "['tucaseid', 'tuactivity_n', 'eueatsum', 'euedur', 'euedur24']"
      ]
     },
     "execution_count": 6,
     "metadata": {},
     "output_type": "execute_result"
    }
   ],
   "source": [
    "df1.columns"
   ]
  },
  {
   "cell_type": "code",
   "execution_count": 7,
   "metadata": {},
   "outputs": [
    {
     "data": {
      "text/plain": [
       "['tucaseid',\n",
       " 'tulineno',\n",
       " 'eeincome1',\n",
       " 'erbmi',\n",
       " 'erhhch',\n",
       " 'erincome',\n",
       " 'erspemch',\n",
       " 'ertpreat',\n",
       " 'ertseat',\n",
       " 'ethgt',\n",
       " 'etwgt',\n",
       " 'eudietsoda',\n",
       " 'eudrink',\n",
       " 'eueat',\n",
       " 'euexercise',\n",
       " 'euexfreq',\n",
       " 'eufastfd',\n",
       " 'eufastfdfrq',\n",
       " 'euffyday',\n",
       " 'eufdsit',\n",
       " 'eufinlwgt',\n",
       " 'eusnap',\n",
       " 'eugenhth',\n",
       " 'eugroshp',\n",
       " 'euhgt',\n",
       " 'euinclvl',\n",
       " 'euincome2',\n",
       " 'eumeat',\n",
       " 'eumilk',\n",
       " 'euprpmel',\n",
       " 'eusoda',\n",
       " 'eustores',\n",
       " 'eustreason',\n",
       " 'eutherm',\n",
       " 'euwgt',\n",
       " 'euwic',\n",
       " 'exincome1']"
      ]
     },
     "execution_count": 7,
     "metadata": {},
     "output_type": "execute_result"
    }
   ],
   "source": [
    "df2.columns"
   ]
  },
  {
   "cell_type": "code",
   "execution_count": 8,
   "metadata": {},
   "outputs": [
    {
     "name": "stdout",
     "output_type": "stream",
     "text": [
      "root\n",
      " |-- tucaseid: long (nullable = true)\n",
      " |-- tuactivity_n: integer (nullable = true)\n",
      " |-- eueatsum: integer (nullable = true)\n",
      " |-- euedur: integer (nullable = true)\n",
      " |-- euedur24: integer (nullable = true)\n",
      "\n"
     ]
    }
   ],
   "source": [
    "df1.printSchema()"
   ]
  },
  {
   "cell_type": "code",
   "execution_count": 9,
   "metadata": {},
   "outputs": [
    {
     "name": "stdout",
     "output_type": "stream",
     "text": [
      "Rows: 120719\n",
      "Columns: 5\n"
     ]
    }
   ],
   "source": [
    "print(\"Rows:\",df1.count())\n",
    "print('Columns:',len(df1.columns))"
   ]
  },
  {
   "cell_type": "code",
   "execution_count": 10,
   "metadata": {},
   "outputs": [
    {
     "name": "stdout",
     "output_type": "stream",
     "text": [
      "Rows: 11212\n",
      "Columns: 37\n"
     ]
    }
   ],
   "source": [
    "print(\"Rows:\",df2.count())\n",
    "print('Columns:',len(df2.columns))"
   ]
  },
  {
   "cell_type": "code",
   "execution_count": 11,
   "metadata": {},
   "outputs": [
    {
     "name": "stdout",
     "output_type": "stream",
     "text": [
      "+-------+------------------+\n",
      "|summary|             erbmi|\n",
      "+-------+------------------+\n",
      "|  count|             11212|\n",
      "|   mean|26.291250407420723|\n",
      "| stddev|  8.73778829160855|\n",
      "|    min|              -1.0|\n",
      "|    max|         73.599998|\n",
      "+-------+------------------+\n",
      "\n"
     ]
    }
   ],
   "source": [
    "df2.describe(['erbmi']).show()"
   ]
  },
  {
   "cell_type": "code",
   "execution_count": null,
   "metadata": {},
   "outputs": [],
   "source": []
  },
  {
   "cell_type": "code",
   "execution_count": null,
   "metadata": {},
   "outputs": [],
   "source": []
  },
  {
   "cell_type": "code",
   "execution_count": 12,
   "metadata": {},
   "outputs": [
    {
     "data": {
      "image/png": "[encoded data removed]",
      "text/plain": [
       "<Figure size 432x288 with 1 Axes>"
      ]
     },
     "metadata": {},
     "output_type": "display_data"
    }
   ],
   "source": [
    "overweight_p =df2[df2.erbmi>24.9].count()\n",
    "all_p = df2.filter('erbmi>=0').select('erbmi').count()\n",
    "labels_p = ['Overweight/obesity', 'Normal/Underweitght']\n",
    "explode = (0.1, 0) \n",
    "fig1, ax1 = plt.subplots()\n",
    "ax1.pie(list([overweight_p,all_p-overweight_p]), explode=explode,labels= labels_p, \n",
    "        autopct='%1.1f%%',shadow=True, startangle=90)\n",
    "ax1.axis('equal')\n",
    "plt.show()"
   ]
  },
  {
   "cell_type": "code",
   "execution_count": null,
   "metadata": {},
   "outputs": [],
   "source": []
  },
  {
   "cell_type": "code",
   "execution_count": 13,
   "metadata": {},
   "outputs": [
    {
     "data": {
      "image/png": "[encoded data removed]",
      "text/plain": [
       "<Figure size 432x288 with 1 Axes>"
      ]
     },
     "metadata": {},
     "output_type": "display_data"
    }
   ],
   "source": [
    "bmi = np.array(df2.select('erbmi').collect())\n",
    "plt.hist(bmi, bins =50)\n",
    "plt.xlabel('BMI')\n",
    "plt.ylabel('Number of people')\n",
    "plt.show()"
   ]
  },
  {
   "cell_type": "code",
   "execution_count": 14,
   "metadata": {},
   "outputs": [],
   "source": [
    "df_plot = df2.select('erbmi','ertpreat').toPandas()"
   ]
  },
  {
   "cell_type": "code",
   "execution_count": null,
   "metadata": {},
   "outputs": [],
   "source": []
  },
  {
   "cell_type": "code",
   "execution_count": 15,
   "metadata": {},
   "outputs": [],
   "source": [
    "df_plot = df2.select('erbmi','erincome','ertseat','ertpreat','euexfreq','eufastfdfrq','eugenhth').toPandas()"
   ]
  },
  {
   "cell_type": "code",
   "execution_count": 16,
   "metadata": {},
   "outputs": [],
   "source": [
    "df_plot2 = df2.select('erbmi','ertseat','ertpreat','euexfreq','eufastfdfrq','eudietsoda','eudrink','eumeat','eumilk').toPandas()"
   ]
  },
  {
   "cell_type": "code",
   "execution_count": 17,
   "metadata": {},
   "outputs": [
    {
     "data": {
      "image/png": "[encoded data removed]",
      "text/plain": [
       "<Figure size 432x288 with 1 Axes>"
      ]
     },
     "metadata": {},
     "output_type": "display_data"
    }
   ],
   "source": [
    "fig, axes = plt.subplots()\n",
    "axes.violinplot(dataset = [df_plot2[df_plot2.eumilk == 1][\"erbmi\"].values,\n",
    "                           df_plot2[df_plot2.eumilk == 2][\"erbmi\"].values,\n",
    " ] )\n",
    "axes.set_title('milk and BMI')\n",
    "axes.yaxis.grid(True)\n",
    "axes.set_xlabel('milk')\n",
    "axes.set_ylabel('BMI')\n",
    "\n",
    "plt.show()"
   ]
  },
  {
   "cell_type": "code",
   "execution_count": 18,
   "metadata": {},
   "outputs": [
    {
     "data": {
      "text/plain": [
       "Text(0,0.5,'eudrink')"
      ]
     },
     "execution_count": 18,
     "metadata": {},
     "output_type": "execute_result"
    },
    {
     "data": {
      "image/png": "[encoded data removed]",
      "text/plain": [
       "<Figure size 432x288 with 1 Axes>"
      ]
     },
     "metadata": {},
     "output_type": "display_data"
    }
   ],
   "source": [
    "plt.hist2d(df_plot2.erbmi, df_plot2.eudrink)\n",
    "plt.xlabel('BMI')\n",
    "plt.ylabel('eudrink')"
   ]
  },
  {
   "cell_type": "code",
   "execution_count": null,
   "metadata": {},
   "outputs": [],
   "source": []
  },
  {
   "cell_type": "code",
   "execution_count": 19,
   "metadata": {},
   "outputs": [
    {
     "data": {
      "image/png": "[encoded data removed]",
      "text/plain": [
       "<Figure size 432x288 with 1 Axes>"
      ]
     },
     "metadata": {},
     "output_type": "display_data"
    }
   ],
   "source": [
    "plt.scatter(df_plot.erbmi, df_plot.ertpreat)\n",
    "plt.xlabel('BMI')\n",
    "plt.ylabel('Primary eating time')\n",
    "plt.show()"
   ]
  },
  {
   "cell_type": "code",
   "execution_count": 20,
   "metadata": {},
   "outputs": [
    {
     "data": {
      "image/png": "[encoded data removed]",
      "text/plain": [
       "<Figure size 432x288 with 1 Axes>"
      ]
     },
     "metadata": {},
     "output_type": "display_data"
    }
   ],
   "source": [
    "plt.scatter(df_plot.erbmi, df_plot.eufastfdfrq)\n",
    "plt.xlabel('BMI')\n",
    "plt.ylabel('Fast food frequency')\n",
    "plt.show()"
   ]
  },
  {
   "cell_type": "code",
   "execution_count": 21,
   "metadata": {},
   "outputs": [
    {
     "data": {
      "text/plain": [
       "<matplotlib.axes._subplots.AxesSubplot at 0x7fef24b60390>"
      ]
     },
     "execution_count": 21,
     "metadata": {},
     "output_type": "execute_result"
    },
    {
     "data": {
      "image/png": "[encoded data removed]",
      "text/plain": [
       "<Figure size 432x288 with 1 Axes>"
      ]
     },
     "metadata": {},
     "output_type": "display_data"
    }
   ],
   "source": [
    "df_plot.boxplot(column = 'erbmi',by = 'eugenhth')"
   ]
  },
  {
   "cell_type": "code",
   "execution_count": 22,
   "metadata": {},
   "outputs": [
    {
     "data": {
      "image/png": "[encoded data removed]",
      "text/plain": [
       "<Figure size 432x288 with 1 Axes>"
      ]
     },
     "metadata": {},
     "output_type": "display_data"
    }
   ],
   "source": [
    "preat = np.array(df2.select('ertpreat').collect())\n",
    "plt.hist(preat, bins= 50)\n",
    "plt.xlabel('Primary eating time')\n",
    "plt.ylabel('Numbers')\n",
    "plt.show()"
   ]
  },
  {
   "cell_type": "code",
   "execution_count": 23,
   "metadata": {},
   "outputs": [
    {
     "data": {
      "text/plain": [
       "<matplotlib.axes._subplots.AxesSubplot at 0x7fef24cf7128>"
      ]
     },
     "execution_count": 23,
     "metadata": {},
     "output_type": "execute_result"
    },
    {
     "data": {
      "image/png": "[encoded data removed]",
      "text/plain": [
       "<Figure size 432x288 with 1 Axes>"
      ]
     },
     "metadata": {},
     "output_type": "display_data"
    }
   ],
   "source": [
    "df_plot.eufastfdfrq.hist(bins =50)"
   ]
  },
  {
   "cell_type": "code",
   "execution_count": 24,
   "metadata": {},
   "outputs": [
    {
     "name": "stdout",
     "output_type": "stream",
     "text": [
      "+--------+\n",
      "|eugenhth|\n",
      "+--------+\n",
      "|      -1|\n",
      "|       1|\n",
      "|       3|\n",
      "|       5|\n",
      "|       4|\n",
      "|      -2|\n",
      "|       2|\n",
      "|      -3|\n",
      "+--------+\n",
      "\n"
     ]
    }
   ],
   "source": [
    "df2.select('eugenhth').distinct().show()"
   ]
  },
  {
   "cell_type": "code",
   "execution_count": null,
   "metadata": {},
   "outputs": [],
   "source": []
  },
  {
   "cell_type": "code",
   "execution_count": 25,
   "metadata": {},
   "outputs": [
    {
     "data": {
      "image/png": "[encoded data removed]",
      "text/plain": [
       "<Figure size 432x288 with 1 Axes>"
      ]
     },
     "metadata": {},
     "output_type": "display_data"
    }
   ],
   "source": [
    "fig, axes = plt.subplots()\n",
    "axes.violinplot(dataset = [df_plot[df_plot.erincome == 1][\"erbmi\"].values,\n",
    "                           df_plot[df_plot.erincome == 2][\"erbmi\"].values,\n",
    "                           df_plot[df_plot.erincome == 3][\"erbmi\"].values,\n",
    "                           df_plot[df_plot.erincome == 4][\"erbmi\"].values,\n",
    "                           df_plot[df_plot.erincome == 5][\"erbmi\"].values, ] )\n",
    "axes.set_title('Income and BMI')\n",
    "axes.yaxis.grid(True)\n",
    "axes.set_xlabel('Income')\n",
    "axes.set_ylabel('BMI')\n",
    "\n",
    "plt.show()"
   ]
  },
  {
   "cell_type": "code",
   "execution_count": 26,
   "metadata": {},
   "outputs": [
    {
     "data": {
      "text/plain": [
       "<matplotlib.axes._subplots.AxesSubplot at 0x7fef24b1e828>"
      ]
     },
     "execution_count": 26,
     "metadata": {},
     "output_type": "execute_result"
    },
    {
     "data": {
      "image/png": "[encoded data removed]",
      "text/plain": [
       "<Figure size 432x288 with 1 Axes>"
      ]
     },
     "metadata": {},
     "output_type": "display_data"
    }
   ],
   "source": [
    "df_plot[df_plot.erincome == 3][\"erbmi\"].plot()"
   ]
  },
  {
   "cell_type": "code",
   "execution_count": null,
   "metadata": {},
   "outputs": [],
   "source": []
  },
  {
   "cell_type": "code",
   "execution_count": 27,
   "metadata": {},
   "outputs": [
    {
     "name": "stdout",
     "output_type": "stream",
     "text": [
      "+-------+------------------+------------------+-----------------+------------------+------------------+------------------+------------------+\n",
      "|summary|             erbmi|           ertseat|         ertpreat|        euexercise|          eufastfd|          euexfreq|       eufastfdfrq|\n",
      "+-------+------------------+------------------+-----------------+------------------+------------------+------------------+------------------+\n",
      "|  count|             11212|             11212|            11212|             11212|             11212|             11212|             11212|\n",
      "|   mean|26.291250407420723|16.759900107028184|65.67811273635391|1.3531038173385659|1.4071530503032466|2.2366214769889403| 1.132804138423118|\n",
      "| stddev|  8.73778829160855|50.643598115335635|48.08054086110644|0.5483542236332761|0.5404308470415146|3.2825120971271353|2.4859116844436087|\n",
      "|    min|              -1.0|                -3|                0|                -3|                -3|                -3|                -2|\n",
      "|    max|         73.599998|               990|              508|                 2|                 2|                38|                21|\n",
      "+-------+------------------+------------------+-----------------+------------------+------------------+------------------+------------------+\n",
      "\n"
     ]
    }
   ],
   "source": [
    "df2.select('erbmi','ertseat','ertpreat','euexercise','eufastfd','euexfreq','eufastfdfrq').describe().show() "
   ]
  },
  {
   "cell_type": "code",
   "execution_count": 28,
   "metadata": {},
   "outputs": [
    {
     "name": "stdout",
     "output_type": "stream",
     "text": [
      "+-------+------------------+------------------+-----------------+------------------+------------------+--------------------+------------------+------------------+------------------+\n",
      "|summary|             erbmi|           ertseat|         ertpreat|          euexfreq|       eufastfdfrq|          eudietsoda|           eudrink|            eumeat|            eumilk|\n",
      "+-------+------------------+------------------+-----------------+------------------+------------------+--------------------+------------------+------------------+------------------+\n",
      "|  count|             11212|             11212|            11212|             11212|             11212|               11212|             11212|             11212|             11212|\n",
      "|   mean|26.291250407420723|16.759900107028184|65.67811273635391|2.2366214769889403| 1.132804138423118|-0.28665715305030326|1.3259008205494114| 0.529343560470924| 1.157866571530503|\n",
      "| stddev|  8.73778829160855|50.643598115335635|48.08054086110644|3.2825120971271353|2.4859116844436087|   1.204556949456009|0.4807561019398971|0.9857311302192494|1.3384049529461282|\n",
      "|    min|              -1.0|                -3|                0|                -3|                -2|                  -3|                -3|                -2|                -3|\n",
      "|    max|         73.599998|               990|              508|                38|                21|                   3|                 2|                 2|                 2|\n",
      "+-------+------------------+------------------+-----------------+------------------+------------------+--------------------+------------------+------------------+------------------+\n",
      "\n"
     ]
    }
   ],
   "source": [
    "df2.select('erbmi','ertseat','ertpreat','euexfreq','eufastfdfrq','eudietsoda','eudrink','eumeat','eumilk').describe().show()"
   ]
  },
  {
   "cell_type": "code",
   "execution_count": 29,
   "metadata": {},
   "outputs": [],
   "source": [
    "#no missing values"
   ]
  },
  {
   "cell_type": "code",
   "execution_count": 30,
   "metadata": {},
   "outputs": [],
   "source": [
    "from pyspark.sql.functions import isnan, when, count, col, skewness, mean"
   ]
  },
  {
   "cell_type": "code",
   "execution_count": 31,
   "metadata": {},
   "outputs": [
    {
     "name": "stdout",
     "output_type": "stream",
     "text": [
      "+--------+--------+---------+-----+------+--------+--------+--------+-------+-----+-----+----------+-------+-----+----------+--------+--------+-----------+--------+-------+---------+------+--------+--------+-----+--------+---------+------+------+--------+------+--------+----------+-------+-----+-----+---------+\n",
      "|tucaseid|tulineno|eeincome1|erbmi|erhhch|erincome|erspemch|ertpreat|ertseat|ethgt|etwgt|eudietsoda|eudrink|eueat|euexercise|euexfreq|eufastfd|eufastfdfrq|euffyday|eufdsit|eufinlwgt|eusnap|eugenhth|eugroshp|euhgt|euinclvl|euincome2|eumeat|eumilk|euprpmel|eusoda|eustores|eustreason|eutherm|euwgt|euwic|exincome1|\n",
      "+--------+--------+---------+-----+------+--------+--------+--------+-------+-----+-----+----------+-------+-----+----------+--------+--------+-----------+--------+-------+---------+------+--------+--------+-----+--------+---------+------+------+--------+------+--------+----------+-------+-----+-----+---------+\n",
      "|       0|       0|        0|    0|     0|       0|       0|       0|      0|    0|    0|         0|      0|    0|         0|       0|       0|          0|       0|      0|        0|     0|       0|       0|    0|       0|        0|     0|     0|       0|     0|       0|         0|      0|    0|    0|        0|\n",
      "+--------+--------+---------+-----+------+--------+--------+--------+-------+-----+-----+----------+-------+-----+----------+--------+--------+-----------+--------+-------+---------+------+--------+--------+-----+--------+---------+------+------+--------+------+--------+----------+-------+-----+-----+---------+\n",
      "\n"
     ]
    }
   ],
   "source": [
    "df2.select([count(when( col(c).isNull(), c)).alias(c) for c in df2.columns]).show()"
   ]
  },
  {
   "cell_type": "code",
   "execution_count": 32,
   "metadata": {},
   "outputs": [],
   "source": [
    "#negative values"
   ]
  },
  {
   "cell_type": "code",
   "execution_count": 33,
   "metadata": {},
   "outputs": [
    {
     "name": "stdout",
     "output_type": "stream",
     "text": [
      "+--------+--------+---------+-----+------+--------+--------+--------+-------+-----+-----+----------+-------+-----+----------+--------+--------+-----------+--------+-------+---------+------+--------+--------+-----+--------+---------+------+------+--------+------+--------+----------+-------+-----+-----+---------+\n",
      "|tucaseid|tulineno|eeincome1|erbmi|erhhch|erincome|erspemch|ertpreat|ertseat|ethgt|etwgt|eudietsoda|eudrink|eueat|euexercise|euexfreq|eufastfd|eufastfdfrq|euffyday|eufdsit|eufinlwgt|eusnap|eugenhth|eugroshp|euhgt|euinclvl|euincome2|eumeat|eumilk|euprpmel|eusoda|eustores|eustreason|eutherm|euwgt|euwic|exincome1|\n",
      "+--------+--------+---------+-----+------+--------+--------+--------+-------+-----+-----+----------+-------+-----+----------+--------+--------+-----------+--------+-------+---------+------+--------+--------+-----+--------+---------+------+------+--------+------+--------+----------+-------+-----+-----+---------+\n",
      "|       0|       0|      316|  575|     0|     280|    5535|     487|   5151|11129|11110|      8175|     10|   63|        57|    4219|      43|       4772|    4749|     51|        0|    77|      84|       3|  161|       0|     7699|  3099|  3093|      26|  3699|    3004|      3081|   4036|  500| 5407|    10218|\n",
      "+--------+--------+---------+-----+------+--------+--------+--------+-------+-----+-----+----------+-------+-----+----------+--------+--------+-----------+--------+-------+---------+------+--------+--------+-----+--------+---------+------+------+--------+------+--------+----------+-------+-----+-----+---------+\n",
      "\n"
     ]
    }
   ],
   "source": [
    "df2.select([count(when( col(c)<=0, c)).alias(c) for c in df2.columns]).show()"
   ]
  },
  {
   "cell_type": "code",
   "execution_count": null,
   "metadata": {},
   "outputs": [],
   "source": []
  },
  {
   "cell_type": "code",
   "execution_count": 34,
   "metadata": {},
   "outputs": [],
   "source": [
    "colll = ['erbmi','erincome','ertseat','ertpreat','euexfreq','eufastfdfrq','eugenhth']\n",
    "colll2 = ['erbmi','ertseat','ertpreat','euexfreq','eufastfdfrq','eudietsoda','eudrink','eumeat','eumilk']"
   ]
  },
  {
   "cell_type": "code",
   "execution_count": 35,
   "metadata": {},
   "outputs": [
    {
     "name": "stdout",
     "output_type": "stream",
     "text": [
      "+-------------------+------------------+----------------+------------------+------------------+------------------+--------------------+\n",
      "|              erbmi|          erincome|         ertseat|          ertpreat|          euexfreq|       eufastfdfrq|            eugenhth|\n",
      "+-------------------+------------------+----------------+------------------+------------------+------------------+--------------------+\n",
      "|-0.8936377010862763|0.8784646596986708|8.27765633886949|1.4874678788993003|1.5695577521239334|1.8069522192447918|-0.14851085879160764|\n",
      "+-------------------+------------------+----------------+------------------+------------------+------------------+--------------------+\n",
      "\n"
     ]
    }
   ],
   "source": [
    "df2.select([skewness(col(c)).alias(c) for c in colll]).show()"
   ]
  },
  {
   "cell_type": "code",
   "execution_count": 36,
   "metadata": {},
   "outputs": [
    {
     "name": "stdout",
     "output_type": "stream",
     "text": [
      "+-------------------+----------------+------------------+------------------+------------------+------------------+-------------------+-------------------+-------------------+\n",
      "|              erbmi|         ertseat|          ertpreat|          euexfreq|       eufastfdfrq|        eudietsoda|            eudrink|             eumeat|             eumilk|\n",
      "+-------------------+----------------+------------------+------------------+------------------+------------------+-------------------+-------------------+-------------------+\n",
      "|-0.8936377010862763|8.27765633886949|1.4874678788993003|1.5695577521239334|1.8069522192447918|1.1979103927122492|0.36648999179360836|-0.6985825284676388|-0.9848122812436159|\n",
      "+-------------------+----------------+------------------+------------------+------------------+------------------+-------------------+-------------------+-------------------+\n",
      "\n"
     ]
    }
   ],
   "source": [
    "df2.select([skewness(col(c)).alias(c) for c in colll2]).show()"
   ]
  },
  {
   "cell_type": "code",
   "execution_count": 37,
   "metadata": {},
   "outputs": [],
   "source": [
    "df_sub = df2.select('tucaseid','erbmi','erincome','ertseat','ertpreat','euexfreq','eufastfdfrq','eugenhth')"
   ]
  },
  {
   "cell_type": "code",
   "execution_count": 38,
   "metadata": {},
   "outputs": [],
   "source": [
    "df_sub2 = df2.select('tucaseid','erbmi','ertseat','ertpreat','euexfreq','eufastfdfrq','eudietsoda','eudrink','eumeat','eumilk')"
   ]
  },
  {
   "cell_type": "code",
   "execution_count": 39,
   "metadata": {},
   "outputs": [
    {
     "name": "stdout",
     "output_type": "stream",
     "text": [
      "+------------------+\n",
      "|        avg(erbmi)|\n",
      "+------------------+\n",
      "|27.766522475134067|\n",
      "+------------------+\n",
      "\n"
     ]
    }
   ],
   "source": [
    "df_sub[df_sub.erbmi>0].select(mean(col('erbmi'))).show()"
   ]
  },
  {
   "cell_type": "code",
   "execution_count": 40,
   "metadata": {},
   "outputs": [
    {
     "data": {
      "text/plain": [
       "575"
      ]
     },
     "execution_count": 40,
     "metadata": {},
     "output_type": "execute_result"
    }
   ],
   "source": [
    "df_sub[df_sub['erbmi']<=0].count()\n",
    "#df_sub = df_sub.withColumn('erbmi', when(df_sub['erbmi']<=0,27.7665).otherwise(df_sub['erbmi']))"
   ]
  },
  {
   "cell_type": "code",
   "execution_count": null,
   "metadata": {},
   "outputs": [],
   "source": []
  },
  {
   "cell_type": "code",
   "execution_count": 41,
   "metadata": {},
   "outputs": [],
   "source": [
    "cols_todrop = df_sub.columns # list of all columns\n",
    "for col_to in cols_todrop:\n",
    "    df_sub = df_sub.withColumn(col_to, when(df_sub[col_to]<=0,None).otherwise(df_sub[col_to]))"
   ]
  },
  {
   "cell_type": "code",
   "execution_count": 42,
   "metadata": {},
   "outputs": [],
   "source": [
    "cols_todrop2 = df_sub2.columns # list of all columns\n",
    "for col_to in cols_todrop2:\n",
    "    df_sub2 = df_sub2.withColumn(col_to, when(df_sub2[col_to]<=0,None).otherwise(df_sub2[col_to]))"
   ]
  },
  {
   "cell_type": "code",
   "execution_count": 43,
   "metadata": {},
   "outputs": [
    {
     "name": "stdout",
     "output_type": "stream",
     "text": [
      "+--------------+---------+--------+-------+--------+--------+-----------+--------+\n",
      "|      tucaseid|    erbmi|erincome|ertseat|ertpreat|euexfreq|eufastfdfrq|eugenhth|\n",
      "+--------------+---------+--------+-------+--------+--------+-----------+--------+\n",
      "|20140101140007|33.200001|    null|      2|      30|    null|       null|       1|\n",
      "|20140101140011|22.700001|       1|     14|      45|    null|          1|       2|\n",
      "|20140101140028|49.400002|       5|   null|      60|    null|       null|       5|\n",
      "+--------------+---------+--------+-------+--------+--------+-----------+--------+\n",
      "only showing top 3 rows\n",
      "\n"
     ]
    }
   ],
   "source": [
    "df_sub.show(3)"
   ]
  },
  {
   "cell_type": "code",
   "execution_count": 44,
   "metadata": {},
   "outputs": [
    {
     "name": "stdout",
     "output_type": "stream",
     "text": [
      "+--------------+---------+-------+--------+--------+-----------+----------+-------+------+------+\n",
      "|      tucaseid|    erbmi|ertseat|ertpreat|euexfreq|eufastfdfrq|eudietsoda|eudrink|eumeat|eumilk|\n",
      "+--------------+---------+-------+--------+--------+-----------+----------+-------+------+------+\n",
      "|20140101140007|33.200001|      2|      30|    null|       null|      null|      2|     1|     2|\n",
      "|20140101140011|22.700001|     14|      45|    null|          1|      null|      2|     1|     2|\n",
      "|20140101140028|49.400002|   null|      60|    null|       null|      null|      1|  null|  null|\n",
      "+--------------+---------+-------+--------+--------+-----------+----------+-------+------+------+\n",
      "only showing top 3 rows\n",
      "\n"
     ]
    }
   ],
   "source": [
    "df_sub2.show(3)"
   ]
  },
  {
   "cell_type": "code",
   "execution_count": null,
   "metadata": {},
   "outputs": [],
   "source": []
  },
  {
   "cell_type": "code",
   "execution_count": 45,
   "metadata": {},
   "outputs": [],
   "source": [
    "df_sub = df_sub.na.drop()"
   ]
  },
  {
   "cell_type": "code",
   "execution_count": 46,
   "metadata": {},
   "outputs": [],
   "source": [
    "df_sub2 = df_sub2.na.drop()"
   ]
  },
  {
   "cell_type": "code",
   "execution_count": 47,
   "metadata": {},
   "outputs": [
    {
     "data": {
      "text/plain": [
       "2282"
      ]
     },
     "execution_count": 47,
     "metadata": {},
     "output_type": "execute_result"
    }
   ],
   "source": [
    "df_sub.count()"
   ]
  },
  {
   "cell_type": "code",
   "execution_count": 48,
   "metadata": {},
   "outputs": [
    {
     "data": {
      "text/plain": [
       "479"
      ]
     },
     "execution_count": 48,
     "metadata": {},
     "output_type": "execute_result"
    }
   ],
   "source": [
    "df_sub2.count()"
   ]
  },
  {
   "cell_type": "code",
   "execution_count": 49,
   "metadata": {},
   "outputs": [],
   "source": [
    "df_plot = df_sub.toPandas()"
   ]
  },
  {
   "cell_type": "code",
   "execution_count": 50,
   "metadata": {},
   "outputs": [
    {
     "data": {
      "text/plain": [
       "<matplotlib.axes._subplots.AxesSubplot at 0x7fef24aef518>"
      ]
     },
     "execution_count": 50,
     "metadata": {},
     "output_type": "execute_result"
    },
    {
     "data": {
      "image/png": "[encoded data removed]",
      "text/plain": [
       "<Figure size 432x288 with 1 Axes>"
      ]
     },
     "metadata": {},
     "output_type": "display_data"
    }
   ],
   "source": [
    "df_plot.boxplot(column = 'euexfreq')"
   ]
  },
  {
   "cell_type": "code",
   "execution_count": 51,
   "metadata": {},
   "outputs": [],
   "source": [
    "#df_sub = df_sub[df_sub.euexfreq< 25]"
   ]
  },
  {
   "cell_type": "code",
   "execution_count": 52,
   "metadata": {},
   "outputs": [
    {
     "data": {
      "text/plain": [
       "2282"
      ]
     },
     "execution_count": 52,
     "metadata": {},
     "output_type": "execute_result"
    }
   ],
   "source": [
    "df_sub.count()"
   ]
  },
  {
   "cell_type": "code",
   "execution_count": 53,
   "metadata": {},
   "outputs": [],
   "source": [
    "df_s = df_sub.toDF('id','bmi','income','eat_pri','eat_sec','exercise_freq','fastfood-freq','healthfeeling')"
   ]
  },
  {
   "cell_type": "code",
   "execution_count": 54,
   "metadata": {},
   "outputs": [
    {
     "data": {
      "text/plain": [
       "['tucaseid',\n",
       " 'erbmi',\n",
       " 'ertseat',\n",
       " 'ertpreat',\n",
       " 'euexfreq',\n",
       " 'eufastfdfrq',\n",
       " 'eudietsoda',\n",
       " 'eudrink',\n",
       " 'eumeat',\n",
       " 'eumilk']"
      ]
     },
     "execution_count": 54,
     "metadata": {},
     "output_type": "execute_result"
    }
   ],
   "source": [
    "df_sub2.columns"
   ]
  },
  {
   "cell_type": "code",
   "execution_count": 55,
   "metadata": {},
   "outputs": [],
   "source": [
    "df_s2 = df_sub2.toDF('id','bmi','eat_pri','eat_eat','exercise_freq','fastfood-freq','soda', 'alcohol_drink','meat','milk')"
   ]
  },
  {
   "cell_type": "code",
   "execution_count": 56,
   "metadata": {},
   "outputs": [
    {
     "name": "stdout",
     "output_type": "stream",
     "text": [
      "+--------------+---------+------+-------+-------+-------------+-------------+-------------+\n",
      "|            id|      bmi|income|eat_pri|eat_sec|exercise_freq|fastfood-freq|healthfeeling|\n",
      "+--------------+---------+------+-------+-------+-------------+-------------+-------------+\n",
      "|20140101140559|30.700001|     1|     10|     20|            2|            3|            3|\n",
      "|20140101140614|     27.5|     1|      5|     30|            3|            1|            2|\n",
      "|20140101141418|     19.5|     1|     15|    134|           14|            3|            1|\n",
      "|20140101141449|     23.5|     1|     22|     45|            3|            3|            3|\n",
      "|20140101141488|21.799999|     1|     20|     40|            2|            3|            3|\n",
      "+--------------+---------+------+-------+-------+-------------+-------------+-------------+\n",
      "only showing top 5 rows\n",
      "\n"
     ]
    }
   ],
   "source": [
    "df_s.show(5)"
   ]
  },
  {
   "cell_type": "code",
   "execution_count": 57,
   "metadata": {},
   "outputs": [],
   "source": [
    "df_s = df_s.withColumn('body', \n",
    "                when(df_s['bmi']<=18.5,0)\n",
    "                .when((df_s['bmi']>18.5) & (df_s['bmi']<=24.9) ,1)\n",
    "                .when((df_s['bmi']>24.9) & (df_s['bmi']<29.9) ,2)\n",
    "                .otherwise(3))"
   ]
  },
  {
   "cell_type": "code",
   "execution_count": 58,
   "metadata": {},
   "outputs": [],
   "source": [
    "df_s2 = df_s2.withColumn('body', \n",
    "                when(df_s2['bmi']<=18.5,0)\n",
    "                .when((df_s2['bmi']>18.5) & (df_s2['bmi']<=24.9) ,1)\n",
    "                .when((df_s2['bmi']>24.9) & (df_s2['bmi']<29.9) ,2)\n",
    "                .otherwise(3))"
   ]
  },
  {
   "cell_type": "code",
   "execution_count": 59,
   "metadata": {},
   "outputs": [
    {
     "name": "stdout",
     "output_type": "stream",
     "text": [
      "+----+-----+\n",
      "|body|count|\n",
      "+----+-----+\n",
      "|   0|   41|\n",
      "|   3|  620|\n",
      "|   2|  773|\n",
      "|   1|  848|\n",
      "+----+-----+\n",
      "\n"
     ]
    }
   ],
   "source": [
    "df_s.groupBy('body').count().orderBy('count').show()"
   ]
  },
  {
   "cell_type": "code",
   "execution_count": 60,
   "metadata": {},
   "outputs": [
    {
     "name": "stdout",
     "output_type": "stream",
     "text": [
      "+----+-----+\n",
      "|body|count|\n",
      "+----+-----+\n",
      "|   0|   12|\n",
      "|   1|  150|\n",
      "|   2|  158|\n",
      "|   3|  159|\n",
      "+----+-----+\n",
      "\n"
     ]
    }
   ],
   "source": [
    "df_s2.groupBy('body').count().orderBy('count').show()"
   ]
  },
  {
   "cell_type": "code",
   "execution_count": 61,
   "metadata": {},
   "outputs": [],
   "source": [
    "df_to_pie = df_s.groupBy('body').count().orderBy('count')"
   ]
  },
  {
   "cell_type": "code",
   "execution_count": 62,
   "metadata": {},
   "outputs": [],
   "source": [
    "df_to_pie = df_to_pie.toPandas()"
   ]
  },
  {
   "cell_type": "code",
   "execution_count": 63,
   "metadata": {},
   "outputs": [
    {
     "data": {
      "text/html": [
       "<div>\n",
       "<style scoped>\n",
       "    .dataframe tbody tr th:only-of-type {\n",
       "        vertical-align: middle;\n",
       "    }\n",
       "\n",
       "    .dataframe tbody tr th {\n",
       "        vertical-align: top;\n",
       "    }\n",
       "\n",
       "    .dataframe thead th {\n",
       "        text-align: right;\n",
       "    }\n",
       "</style>\n",
       "<table border=\"1\" class=\"dataframe\">\n",
       "  <thead>\n",
       "    <tr style=\"text-align: right;\">\n",
       "      <th></th>\n",
       "      <th>body</th>\n",
       "      <th>count</th>\n",
       "    </tr>\n",
       "  </thead>\n",
       "  <tbody>\n",
       "    <tr>\n",
       "      <th>0</th>\n",
       "      <td>0</td>\n",
       "      <td>41</td>\n",
       "    </tr>\n",
       "    <tr>\n",
       "      <th>1</th>\n",
       "      <td>3</td>\n",
       "      <td>620</td>\n",
       "    </tr>\n",
       "    <tr>\n",
       "      <th>2</th>\n",
       "      <td>2</td>\n",
       "      <td>773</td>\n",
       "    </tr>\n",
       "    <tr>\n",
       "      <th>3</th>\n",
       "      <td>1</td>\n",
       "      <td>848</td>\n",
       "    </tr>\n",
       "  </tbody>\n",
       "</table>\n",
       "</div>"
      ],
      "text/plain": [
       "   body  count\n",
       "0     0     41\n",
       "1     3    620\n",
       "2     2    773\n",
       "3     1    848"
      ]
     },
     "execution_count": 63,
     "metadata": {},
     "output_type": "execute_result"
    }
   ],
   "source": [
    "df_to_pie"
   ]
  },
  {
   "cell_type": "code",
   "execution_count": 64,
   "metadata": {},
   "outputs": [
    {
     "data": {
      "image/png": "[encoded data removed]",
      "text/plain": [
       "<Figure size 432x288 with 1 Axes>"
      ]
     },
     "metadata": {},
     "output_type": "display_data"
    }
   ],
   "source": [
    "explode = (0.1, 0, 0, 0) \n",
    "fig1, ax1 = plt.subplots()\n",
    "ax1.pie(list(df_to_pie['count']), explode=explode, labels=df_to_pie.body, \n",
    "        autopct='%1.1f%%',shadow=True, startangle=90)\n",
    "ax1.axis('equal')\n",
    "plt.show()"
   ]
  },
  {
   "cell_type": "code",
   "execution_count": 65,
   "metadata": {},
   "outputs": [],
   "source": [
    "df_s = df_s.withColumn('eat_total', df_s['eat_pri']+df_s['eat_sec'])"
   ]
  },
  {
   "cell_type": "code",
   "execution_count": 66,
   "metadata": {},
   "outputs": [],
   "source": [
    "df_s = df_s.withColumn('eat_pri/total', F.round((df_s['eat_pri']/df_s['eat_total']),4))"
   ]
  },
  {
   "cell_type": "code",
   "execution_count": 67,
   "metadata": {},
   "outputs": [],
   "source": [
    "df_s = df_s.withColumn('exer_fast_p', F.round((df_s['fastfood-freq']/df_s['exercise_freq']),4))"
   ]
  },
  {
   "cell_type": "code",
   "execution_count": 68,
   "metadata": {},
   "outputs": [
    {
     "name": "stdout",
     "output_type": "stream",
     "text": [
      "+--------------+---------+------+-------+-------+-------------+-------------+-------------+----+---------+-------------+-----------+\n",
      "|            id|      bmi|income|eat_pri|eat_sec|exercise_freq|fastfood-freq|healthfeeling|body|eat_total|eat_pri/total|exer_fast_p|\n",
      "+--------------+---------+------+-------+-------+-------------+-------------+-------------+----+---------+-------------+-----------+\n",
      "|20140101140559|30.700001|     1|     10|     20|            2|            3|            3|   3|       30|       0.3333|        1.5|\n",
      "|20140101140614|     27.5|     1|      5|     30|            3|            1|            2|   2|       35|       0.1429|     0.3333|\n",
      "|20140101141418|     19.5|     1|     15|    134|           14|            3|            1|   1|      149|       0.1007|     0.2143|\n",
      "|20140101141449|     23.5|     1|     22|     45|            3|            3|            3|   1|       67|       0.3284|        1.0|\n",
      "|20140101141488|21.799999|     1|     20|     40|            2|            3|            3|   1|       60|       0.3333|        1.5|\n",
      "|20140101141556|34.900002|     1|      2|     75|            4|            2|            3|   3|       77|        0.026|        0.5|\n",
      "|20140101141796|     29.5|     1|     15|     75|            3|            2|            2|   2|       90|       0.1667|     0.6667|\n",
      "|20140101141928|     27.4|     1|      2|    120|            2|            3|            2|   2|      122|       0.0164|        1.5|\n",
      "|20140101142020|24.299999|     1|     20|     35|            1|           10|            2|   1|       55|       0.3636|       10.0|\n",
      "|20140101142205|32.200001|     1|     30|     30|            3|            3|            4|   3|       60|          0.5|        1.0|\n",
      "+--------------+---------+------+-------+-------+-------------+-------------+-------------+----+---------+-------------+-----------+\n",
      "only showing top 10 rows\n",
      "\n"
     ]
    }
   ],
   "source": [
    "df_s.show(10)"
   ]
  },
  {
   "cell_type": "code",
   "execution_count": null,
   "metadata": {},
   "outputs": [],
   "source": []
  },
  {
   "cell_type": "code",
   "execution_count": null,
   "metadata": {},
   "outputs": [],
   "source": []
  },
  {
   "cell_type": "code",
   "execution_count": 69,
   "metadata": {},
   "outputs": [
    {
     "name": "stdout",
     "output_type": "stream",
     "text": [
      "+--------------+------------+--------+------+--------+\n",
      "|      tucaseid|tuactivity_n|eueatsum|euedur|euedur24|\n",
      "+--------------+------------+--------+------+--------+\n",
      "|20140101140007|           1|      -1|    -1|      -1|\n",
      "|20140101140007|           2|      -1|    -1|      -1|\n",
      "|20140101140007|           3|      -1|    -1|      -1|\n",
      "|20140101140007|           4|      -1|    -1|      -1|\n",
      "|20140101140007|           5|      -1|    -1|      -1|\n",
      "|20140101140007|           6|      -1|    -1|      -1|\n",
      "|20140101140007|           7|       1|     2|       2|\n",
      "|20140101140007|           8|      -1|    -1|      -1|\n",
      "|20140101140007|           9|      -1|    -1|      -1|\n",
      "|20140101140007|          10|      -1|    -1|      -1|\n",
      "+--------------+------------+--------+------+--------+\n",
      "only showing top 10 rows\n",
      "\n"
     ]
    }
   ],
   "source": [
    "df1.show(10)"
   ]
  },
  {
   "cell_type": "code",
   "execution_count": 70,
   "metadata": {},
   "outputs": [],
   "source": [
    "df1 = df1.withColumn('eueatsum', when(df1['eueatsum']<=0,0).otherwise(df1['eueatsum']))\n",
    "df1 = df1.withColumn('euedur24', when(df1['euedur24']<=0,0).otherwise(df1['euedur24']))"
   ]
  },
  {
   "cell_type": "code",
   "execution_count": 71,
   "metadata": {},
   "outputs": [],
   "source": [
    "df_m = df1.select('tucaseid','eueatsum','euedur24')"
   ]
  },
  {
   "cell_type": "code",
   "execution_count": 72,
   "metadata": {},
   "outputs": [],
   "source": [
    "df_m = df_m.groupBy(['tucaseid']).agg({'eueatsum': 'sum', 'euedur24': 'sum'})"
   ]
  },
  {
   "cell_type": "code",
   "execution_count": 73,
   "metadata": {},
   "outputs": [
    {
     "name": "stdout",
     "output_type": "stream",
     "text": [
      "+--------------+-------------+-------------+\n",
      "|      tucaseid|sum(eueatsum)|sum(euedur24)|\n",
      "+--------------+-------------+-------------+\n",
      "|20140112131303|            1|           20|\n",
      "|20140112132000|            1|           15|\n",
      "|20140201140791|            1|            5|\n",
      "|20140201141604|            1|            0|\n",
      "|20140212130608|            1|           10|\n",
      "+--------------+-------------+-------------+\n",
      "only showing top 5 rows\n",
      "\n"
     ]
    }
   ],
   "source": [
    "df_m.show(5)"
   ]
  },
  {
   "cell_type": "code",
   "execution_count": 74,
   "metadata": {},
   "outputs": [],
   "source": [
    "df_m = df_m.toDF('id','eat_freq_in_activity','eat_time_in_activity')"
   ]
  },
  {
   "cell_type": "code",
   "execution_count": 75,
   "metadata": {},
   "outputs": [],
   "source": [
    "df_new = df_s.join(df_m,on='id',how='left')"
   ]
  },
  {
   "cell_type": "code",
   "execution_count": 76,
   "metadata": {},
   "outputs": [],
   "source": [
    "df_new2 = df_s2.join(df_m,on='id',how='left')"
   ]
  },
  {
   "cell_type": "code",
   "execution_count": 77,
   "metadata": {},
   "outputs": [
    {
     "name": "stdout",
     "output_type": "stream",
     "text": [
      "+---+---+------+-------+-------+-------------+-------------+-------------+----+---------+-------------+-----------+--------------------+--------------------+\n",
      "| id|bmi|income|eat_pri|eat_sec|exercise_freq|fastfood-freq|healthfeeling|body|eat_total|eat_pri/total|exer_fast_p|eat_freq_in_activity|eat_time_in_activity|\n",
      "+---+---+------+-------+-------+-------------+-------------+-------------+----+---------+-------------+-----------+--------------------+--------------------+\n",
      "|  0|  0|     0|      0|      0|            0|            0|            0|   0|        0|            0|          0|                   0|                   0|\n",
      "+---+---+------+-------+-------+-------------+-------------+-------------+----+---------+-------------+-----------+--------------------+--------------------+\n",
      "\n"
     ]
    }
   ],
   "source": [
    "df_new.select([count(when( col(c).isNull(), c)).alias(c) for c in df_new.columns]).show()"
   ]
  },
  {
   "cell_type": "code",
   "execution_count": 78,
   "metadata": {},
   "outputs": [
    {
     "data": {
      "text/plain": [
       "2282"
      ]
     },
     "execution_count": 78,
     "metadata": {},
     "output_type": "execute_result"
    }
   ],
   "source": [
    "df_new.count()"
   ]
  },
  {
   "cell_type": "code",
   "execution_count": 79,
   "metadata": {},
   "outputs": [
    {
     "data": {
      "text/plain": [
       "Row(id=20140101141488, bmi=21.799999, eat_pri=20, eat_eat=40, exercise_freq=2, fastfood-freq=3, soda=1, alcohol_drink=1, meat=1, milk=2, body=1, eat_freq_in_activity=2, eat_time_in_activity=20)"
      ]
     },
     "execution_count": 79,
     "metadata": {},
     "output_type": "execute_result"
    }
   ],
   "source": [
    "df_new2.head()"
   ]
  },
  {
   "cell_type": "code",
   "execution_count": 80,
   "metadata": {},
   "outputs": [],
   "source": [
    "df_s = df_new"
   ]
  },
  {
   "cell_type": "code",
   "execution_count": 81,
   "metadata": {},
   "outputs": [
    {
     "name": "stdout",
     "output_type": "stream",
     "text": [
      "+----+-----+\n",
      "|body|count|\n",
      "+----+-----+\n",
      "|   3|  620|\n",
      "|   0|  656|\n",
      "|   2|  773|\n",
      "|   1|  848|\n",
      "+----+-----+\n",
      "\n"
     ]
    },
    {
     "data": {
      "text/plain": [
       "2897"
      ]
     },
     "execution_count": 81,
     "metadata": {},
     "output_type": "execute_result"
    }
   ],
   "source": [
    "#every body 0 should explode roughly 16 times\n",
    "df_s= df_s.withColumn('n', \n",
    "                when(df_s['body']==0 ,16)\n",
    "                .otherwise(1))\n",
    "from pyspark.sql.functions import udf, explode\n",
    "from pyspark.sql.types import ArrayType, IntegerType\n",
    "n_to_array = udf(lambda n : [n] * n, ArrayType(IntegerType()))\n",
    "df3 = df_s.withColumn('n', n_to_array(df_s.n))\n",
    "df3 = df3.withColumn('n', explode(df3.n))\n",
    "df3.groupBy('body').count().orderBy('count').show()\n",
    "df_s = df3.drop('n')\n",
    "df_s.count()"
   ]
  },
  {
   "cell_type": "code",
   "execution_count": 82,
   "metadata": {},
   "outputs": [],
   "source": [
    "df_new = df_s"
   ]
  },
  {
   "cell_type": "code",
   "execution_count": 83,
   "metadata": {},
   "outputs": [
    {
     "name": "stdout",
     "output_type": "stream",
     "text": [
      "+--------------+---------+------+-------+-------+-------------+-------------+-------------+----+---------+-------------+-----------+--------------------+--------------------+\n",
      "|            id|      bmi|income|eat_pri|eat_sec|exercise_freq|fastfood-freq|healthfeeling|body|eat_total|eat_pri/total|exer_fast_p|eat_freq_in_activity|eat_time_in_activity|\n",
      "+--------------+---------+------+-------+-------+-------------+-------------+-------------+----+---------+-------------+-----------+--------------------+--------------------+\n",
      "|20140101140559|30.700001|     1|     10|     20|            2|            3|            3|   3|       30|       0.3333|        1.5|                   2|                  10|\n",
      "|20140101140614|     27.5|     1|      5|     30|            3|            1|            2|   2|       35|       0.1429|     0.3333|                   1|                   5|\n",
      "|20140101141418|     19.5|     1|     15|    134|           14|            3|            1|   1|      149|       0.1007|     0.2143|                   1|                  15|\n",
      "|20140101141449|     23.5|     1|     22|     45|            3|            3|            3|   1|       67|       0.3284|        1.0|                   2|                  22|\n",
      "|20140101141488|21.799999|     1|     20|     40|            2|            3|            3|   1|       60|       0.3333|        1.5|                   2|                  20|\n",
      "|20140101141556|34.900002|     1|      2|     75|            4|            2|            3|   3|       77|        0.026|        0.5|                   1|                   2|\n",
      "|20140101141796|     29.5|     1|     15|     75|            3|            2|            2|   2|       90|       0.1667|     0.6667|                   1|                  15|\n",
      "|20140101141928|     27.4|     1|      2|    120|            2|            3|            2|   2|      122|       0.0164|        1.5|                   1|                   2|\n",
      "|20140101142020|24.299999|     1|     20|     35|            1|           10|            2|   1|       55|       0.3636|       10.0|                   1|                  20|\n",
      "|20140101142205|32.200001|     1|     30|     30|            3|            3|            4|   3|       60|          0.5|        1.0|                   3|                  30|\n",
      "+--------------+---------+------+-------+-------+-------------+-------------+-------------+----+---------+-------------+-----------+--------------------+--------------------+\n",
      "only showing top 10 rows\n",
      "\n"
     ]
    }
   ],
   "source": [
    "df_new.show(10)"
   ]
  },
  {
   "cell_type": "code",
   "execution_count": 84,
   "metadata": {},
   "outputs": [
    {
     "name": "stdout",
     "output_type": "stream",
     "text": [
      "Rows: 2897\n",
      "Columns: 14\n"
     ]
    }
   ],
   "source": [
    "print(\"Rows:\",df_new.count())\n",
    "print('Columns:',len(df_new.columns))"
   ]
  },
  {
   "cell_type": "code",
   "execution_count": 85,
   "metadata": {},
   "outputs": [
    {
     "data": {
      "text/plain": [
       "['id',\n",
       " 'bmi',\n",
       " 'income',\n",
       " 'eat_pri',\n",
       " 'eat_sec',\n",
       " 'exercise_freq',\n",
       " 'fastfood-freq',\n",
       " 'healthfeeling',\n",
       " 'body',\n",
       " 'eat_total',\n",
       " 'eat_pri/total',\n",
       " 'exer_fast_p',\n",
       " 'eat_freq_in_activity',\n",
       " 'eat_time_in_activity']"
      ]
     },
     "execution_count": 85,
     "metadata": {},
     "output_type": "execute_result"
    }
   ],
   "source": [
    "df_new.columns"
   ]
  },
  {
   "cell_type": "markdown",
   "metadata": {},
   "source": [
    "df_new = df_new.withColumn('exer_fast_p', F.round((df_new['fastfood-freq']/df_new['exercise_freq']),4))\n",
    "df_new = df_new.withColumn('eat_total', df_new['eat_pri']+df_new['eat_eat'])\n",
    "df_new = df_new.toDF('id',\n",
    " 'bmi',\n",
    " 'eat_pri',\n",
    " 'eat_sec',\n",
    " 'exercise_freq',\n",
    " 'fastfood_freq',\n",
    " 'soda',\n",
    " 'alcohol_drink',\n",
    " 'meat',\n",
    " 'milk',\n",
    " 'body',\n",
    " 'eat_freq_in_activity',\n",
    " 'eat_time_in_activity',\n",
    " 'exer_fast_p',\n",
    " 'eat_total')"
   ]
  },
  {
   "cell_type": "code",
   "execution_count": null,
   "metadata": {},
   "outputs": [],
   "source": []
  },
  {
   "cell_type": "code",
   "execution_count": 86,
   "metadata": {},
   "outputs": [],
   "source": [
    "df_new = df_new.toDF('id','bmi','income','eat_pri','eat_sec'\n",
    "                   ,'exercise_freq','fastfood_freq','healthfeeling'\n",
    "                   ,'body','eat_total','eat_importance','exer_fast_percentage'\n",
    "                  ,'eat_freq_in_activity','eat_time_in_activity')"
   ]
  },
  {
   "cell_type": "code",
   "execution_count": 87,
   "metadata": {},
   "outputs": [
    {
     "name": "stdout",
     "output_type": "stream",
     "text": [
      "root\n",
      " |-- id: long (nullable = true)\n",
      " |-- bmi: double (nullable = true)\n",
      " |-- income: integer (nullable = true)\n",
      " |-- eat_pri: integer (nullable = true)\n",
      " |-- eat_sec: integer (nullable = true)\n",
      " |-- exercise_freq: integer (nullable = true)\n",
      " |-- fastfood_freq: integer (nullable = true)\n",
      " |-- healthfeeling: integer (nullable = true)\n",
      " |-- body: integer (nullable = false)\n",
      " |-- eat_total: integer (nullable = true)\n",
      " |-- eat_importance: double (nullable = true)\n",
      " |-- exer_fast_percentage: double (nullable = true)\n",
      " |-- eat_freq_in_activity: long (nullable = true)\n",
      " |-- eat_time_in_activity: long (nullable = true)\n",
      "\n"
     ]
    }
   ],
   "source": [
    "df_new.printSchema()"
   ]
  },
  {
   "cell_type": "code",
   "execution_count": null,
   "metadata": {},
   "outputs": [],
   "source": []
  },
  {
   "cell_type": "code",
   "execution_count": 88,
   "metadata": {},
   "outputs": [],
   "source": [
    "from pyspark.sql.types import (StructField,LongType, DoubleType, StringType,IntegerType,StructType)"
   ]
  },
  {
   "cell_type": "code",
   "execution_count": 89,
   "metadata": {},
   "outputs": [],
   "source": [
    "df_new = df_new.withColumn(\"bmi\", df_new[\"bmi\"].cast(DoubleType()))"
   ]
  },
  {
   "cell_type": "code",
   "execution_count": 90,
   "metadata": {},
   "outputs": [
    {
     "name": "stdout",
     "output_type": "stream",
     "text": [
      "+---+---+------+-------+-------+-------------+-------------+-------------+----+---------+--------------+--------------------+--------------------+--------------------+\n",
      "| id|bmi|income|eat_pri|eat_sec|exercise_freq|fastfood_freq|healthfeeling|body|eat_total|eat_importance|exer_fast_percentage|eat_freq_in_activity|eat_time_in_activity|\n",
      "+---+---+------+-------+-------+-------------+-------------+-------------+----+---------+--------------+--------------------+--------------------+--------------------+\n",
      "|  0|  0|     0|      0|      0|            0|            0|            0|   0|        0|             0|                   0|                   0|                   0|\n",
      "+---+---+------+-------+-------+-------------+-------------+-------------+----+---------+--------------+--------------------+--------------------+--------------------+\n",
      "\n"
     ]
    }
   ],
   "source": [
    "df_new.select([count(when( col(c).isNull(), c)).alias(c) for c in df_new.columns]).show()"
   ]
  },
  {
   "cell_type": "code",
   "execution_count": 91,
   "metadata": {},
   "outputs": [
    {
     "name": "stdout",
     "output_type": "stream",
     "text": [
      "+---+---+------+-------+-------+-------------+-------------+-------------+----+---------+--------------+--------------------+--------------------+--------------------+\n",
      "| id|bmi|income|eat_pri|eat_sec|exercise_freq|fastfood_freq|healthfeeling|body|eat_total|eat_importance|exer_fast_percentage|eat_freq_in_activity|eat_time_in_activity|\n",
      "+---+---+------+-------+-------+-------------+-------------+-------------+----+---------+--------------+--------------------+--------------------+--------------------+\n",
      "|  0|  0|     0|      0|      0|            0|            0|            0|   0|        0|             0|                   0|                   0|                   0|\n",
      "+---+---+------+-------+-------+-------------+-------------+-------------+----+---------+--------------+--------------------+--------------------+--------------------+\n",
      "\n"
     ]
    }
   ],
   "source": [
    "df_new.select([count(when( col(c)<0, c)).alias(c) for c in df_new.columns]).show()"
   ]
  },
  {
   "cell_type": "code",
   "execution_count": 92,
   "metadata": {},
   "outputs": [
    {
     "name": "stdout",
     "output_type": "stream",
     "text": [
      "+----+-----+\n",
      "|body|count|\n",
      "+----+-----+\n",
      "|   3|  620|\n",
      "|   0|  656|\n",
      "|   2|  773|\n",
      "|   1|  848|\n",
      "+----+-----+\n",
      "\n"
     ]
    }
   ],
   "source": [
    "df_new.groupBy('body').count().orderBy('count').show()\n"
   ]
  },
  {
   "cell_type": "code",
   "execution_count": 93,
   "metadata": {},
   "outputs": [],
   "source": [
    "df_corr = df_new.toPandas()"
   ]
  },
  {
   "cell_type": "code",
   "execution_count": 94,
   "metadata": {},
   "outputs": [
    {
     "data": {
      "text/plain": [
       "id                      0.042062\n",
       "bmi                     1.000000\n",
       "income                  0.011302\n",
       "eat_pri                 0.019972\n",
       "eat_sec                 0.003809\n",
       "exercise_freq          -0.057948\n",
       "fastfood_freq           0.018319\n",
       "healthfeeling           0.281176\n",
       "body                    0.910883\n",
       "eat_total               0.017598\n",
       "eat_importance          0.008686\n",
       "exer_fast_percentage    0.045380\n",
       "eat_freq_in_activity   -0.019850\n",
       "eat_time_in_activity    0.019972\n",
       "Name: bmi, dtype: float64"
      ]
     },
     "execution_count": 94,
     "metadata": {},
     "output_type": "execute_result"
    }
   ],
   "source": [
    "df_corr.corr()['bmi']"
   ]
  },
  {
   "cell_type": "code",
   "execution_count": 95,
   "metadata": {},
   "outputs": [
    {
     "data": {
      "text/plain": [
       "id                      0.031304\n",
       "bmi                     0.910883\n",
       "income                 -0.014665\n",
       "eat_pri                 0.031212\n",
       "eat_sec                 0.019856\n",
       "exercise_freq          -0.069499\n",
       "fastfood_freq           0.020067\n",
       "healthfeeling           0.243214\n",
       "body                    1.000000\n",
       "eat_total               0.036743\n",
       "eat_importance          0.005995\n",
       "exer_fast_percentage    0.051462\n",
       "eat_freq_in_activity   -0.026514\n",
       "eat_time_in_activity    0.031212\n",
       "Name: body, dtype: float64"
      ]
     },
     "execution_count": 95,
     "metadata": {},
     "output_type": "execute_result"
    }
   ],
   "source": [
    "df_corr.corr()['body']"
   ]
  },
  {
   "cell_type": "code",
   "execution_count": 96,
   "metadata": {
    "scrolled": false
   },
   "outputs": [
    {
     "data": {
      "text/html": [
       "<style  type=\"text/css\" >\n",
       "    #T_75a5bcec_f7df_11e9_9633_126254733de4row0_col0 {\n",
       "            background-color:  #b40426;\n",
       "        }    #T_75a5bcec_f7df_11e9_9633_126254733de4row0_col1 {\n",
       "            background-color:  #5875e1;\n",
       "        }    #T_75a5bcec_f7df_11e9_9633_126254733de4row0_col2 {\n",
       "            background-color:  #516ddb;\n",
       "        }    #T_75a5bcec_f7df_11e9_9633_126254733de4row0_col3 {\n",
       "            background-color:  #3b4cc0;\n",
       "        }    #T_75a5bcec_f7df_11e9_9633_126254733de4row0_col4 {\n",
       "            background-color:  #a1c0ff;\n",
       "        }    #T_75a5bcec_f7df_11e9_9633_126254733de4row0_col5 {\n",
       "            background-color:  #a2c1ff;\n",
       "        }    #T_75a5bcec_f7df_11e9_9633_126254733de4row0_col6 {\n",
       "            background-color:  #536edd;\n",
       "        }    #T_75a5bcec_f7df_11e9_9633_126254733de4row0_col7 {\n",
       "            background-color:  #6e90f2;\n",
       "        }    #T_75a5bcec_f7df_11e9_9633_126254733de4row0_col8 {\n",
       "            background-color:  #5875e1;\n",
       "        }    #T_75a5bcec_f7df_11e9_9633_126254733de4row0_col9 {\n",
       "            background-color:  #3b4cc0;\n",
       "        }    #T_75a5bcec_f7df_11e9_9633_126254733de4row0_col10 {\n",
       "            background-color:  #a5c3fe;\n",
       "        }    #T_75a5bcec_f7df_11e9_9633_126254733de4row0_col11 {\n",
       "            background-color:  #9dbdff;\n",
       "        }    #T_75a5bcec_f7df_11e9_9633_126254733de4row0_col12 {\n",
       "            background-color:  #688aef;\n",
       "        }    #T_75a5bcec_f7df_11e9_9633_126254733de4row0_col13 {\n",
       "            background-color:  #3b4cc0;\n",
       "        }    #T_75a5bcec_f7df_11e9_9633_126254733de4row1_col0 {\n",
       "            background-color:  #506bda;\n",
       "        }    #T_75a5bcec_f7df_11e9_9633_126254733de4row1_col1 {\n",
       "            background-color:  #b40426;\n",
       "        }    #T_75a5bcec_f7df_11e9_9633_126254733de4row1_col2 {\n",
       "            background-color:  #5470de;\n",
       "        }    #T_75a5bcec_f7df_11e9_9633_126254733de4row1_col3 {\n",
       "            background-color:  #485fd1;\n",
       "        }    #T_75a5bcec_f7df_11e9_9633_126254733de4row1_col4 {\n",
       "            background-color:  #a6c4fe;\n",
       "        }    #T_75a5bcec_f7df_11e9_9633_126254733de4row1_col5 {\n",
       "            background-color:  #8fb1fe;\n",
       "        }    #T_75a5bcec_f7df_11e9_9633_126254733de4row1_col6 {\n",
       "            background-color:  #536edd;\n",
       "        }    #T_75a5bcec_f7df_11e9_9633_126254733de4row1_col7 {\n",
       "            background-color:  #aec9fc;\n",
       "        }    #T_75a5bcec_f7df_11e9_9633_126254733de4row1_col8 {\n",
       "            background-color:  #d1493f;\n",
       "        }    #T_75a5bcec_f7df_11e9_9633_126254733de4row1_col9 {\n",
       "            background-color:  #4a63d3;\n",
       "        }    #T_75a5bcec_f7df_11e9_9633_126254733de4row1_col10 {\n",
       "            background-color:  #a7c5fe;\n",
       "        }    #T_75a5bcec_f7df_11e9_9633_126254733de4row1_col11 {\n",
       "            background-color:  #a9c6fd;\n",
       "        }    #T_75a5bcec_f7df_11e9_9633_126254733de4row1_col12 {\n",
       "            background-color:  #5e7de7;\n",
       "        }    #T_75a5bcec_f7df_11e9_9633_126254733de4row1_col13 {\n",
       "            background-color:  #485fd1;\n",
       "        }    #T_75a5bcec_f7df_11e9_9633_126254733de4row2_col0 {\n",
       "            background-color:  #455cce;\n",
       "        }    #T_75a5bcec_f7df_11e9_9633_126254733de4row2_col1 {\n",
       "            background-color:  #4e68d8;\n",
       "        }    #T_75a5bcec_f7df_11e9_9633_126254733de4row2_col2 {\n",
       "            background-color:  #b40426;\n",
       "        }    #T_75a5bcec_f7df_11e9_9633_126254733de4row2_col3 {\n",
       "            background-color:  #4961d2;\n",
       "        }    #T_75a5bcec_f7df_11e9_9633_126254733de4row2_col4 {\n",
       "            background-color:  #93b5fe;\n",
       "        }    #T_75a5bcec_f7df_11e9_9633_126254733de4row2_col5 {\n",
       "            background-color:  #a2c1ff;\n",
       "        }    #T_75a5bcec_f7df_11e9_9633_126254733de4row2_col6 {\n",
       "            background-color:  #3b4cc0;\n",
       "        }    #T_75a5bcec_f7df_11e9_9633_126254733de4row2_col7 {\n",
       "            background-color:  #a3c2fe;\n",
       "        }    #T_75a5bcec_f7df_11e9_9633_126254733de4row2_col8 {\n",
       "            background-color:  #4a63d3;\n",
       "        }    #T_75a5bcec_f7df_11e9_9633_126254733de4row2_col9 {\n",
       "            background-color:  #3b4cc0;\n",
       "        }    #T_75a5bcec_f7df_11e9_9633_126254733de4row2_col10 {\n",
       "            background-color:  #b9d0f9;\n",
       "        }    #T_75a5bcec_f7df_11e9_9633_126254733de4row2_col11 {\n",
       "            background-color:  #90b2fe;\n",
       "        }    #T_75a5bcec_f7df_11e9_9633_126254733de4row2_col12 {\n",
       "            background-color:  #7597f6;\n",
       "        }    #T_75a5bcec_f7df_11e9_9633_126254733de4row2_col13 {\n",
       "            background-color:  #4961d2;\n",
       "        }    #T_75a5bcec_f7df_11e9_9633_126254733de4row3_col0 {\n",
       "            background-color:  #3c4ec2;\n",
       "        }    #T_75a5bcec_f7df_11e9_9633_126254733de4row3_col1 {\n",
       "            background-color:  #506bda;\n",
       "        }    #T_75a5bcec_f7df_11e9_9633_126254733de4row3_col2 {\n",
       "            background-color:  #5875e1;\n",
       "        }    #T_75a5bcec_f7df_11e9_9633_126254733de4row3_col3 {\n",
       "            background-color:  #b40426;\n",
       "        }    #T_75a5bcec_f7df_11e9_9633_126254733de4row3_col4 {\n",
       "            background-color:  #a3c2fe;\n",
       "        }    #T_75a5bcec_f7df_11e9_9633_126254733de4row3_col5 {\n",
       "            background-color:  #9fbfff;\n",
       "        }    #T_75a5bcec_f7df_11e9_9633_126254733de4row3_col6 {\n",
       "            background-color:  #5b7ae5;\n",
       "        }    #T_75a5bcec_f7df_11e9_9633_126254733de4row3_col7 {\n",
       "            background-color:  #5673e0;\n",
       "        }    #T_75a5bcec_f7df_11e9_9633_126254733de4row3_col8 {\n",
       "            background-color:  #5875e1;\n",
       "        }    #T_75a5bcec_f7df_11e9_9633_126254733de4row3_col9 {\n",
       "            background-color:  #f39778;\n",
       "        }    #T_75a5bcec_f7df_11e9_9633_126254733de4row3_col10 {\n",
       "            background-color:  #f39778;\n",
       "        }    #T_75a5bcec_f7df_11e9_9633_126254733de4row3_col11 {\n",
       "            background-color:  #a3c2fe;\n",
       "        }    #T_75a5bcec_f7df_11e9_9633_126254733de4row3_col12 {\n",
       "            background-color:  #a7c5fe;\n",
       "        }    #T_75a5bcec_f7df_11e9_9633_126254733de4row3_col13 {\n",
       "            background-color:  #b40426;\n",
       "        }    #T_75a5bcec_f7df_11e9_9633_126254733de4row4_col0 {\n",
       "            background-color:  #3e51c5;\n",
       "        }    #T_75a5bcec_f7df_11e9_9633_126254733de4row4_col1 {\n",
       "            background-color:  #4b64d5;\n",
       "        }    #T_75a5bcec_f7df_11e9_9633_126254733de4row4_col2 {\n",
       "            background-color:  #3b4cc0;\n",
       "        }    #T_75a5bcec_f7df_11e9_9633_126254733de4row4_col3 {\n",
       "            background-color:  #3e51c5;\n",
       "        }    #T_75a5bcec_f7df_11e9_9633_126254733de4row4_col4 {\n",
       "            background-color:  #b40426;\n",
       "        }    #T_75a5bcec_f7df_11e9_9633_126254733de4row4_col5 {\n",
       "            background-color:  #9dbdff;\n",
       "        }    #T_75a5bcec_f7df_11e9_9633_126254733de4row4_col6 {\n",
       "            background-color:  #5977e3;\n",
       "        }    #T_75a5bcec_f7df_11e9_9633_126254733de4row4_col7 {\n",
       "            background-color:  #506bda;\n",
       "        }    #T_75a5bcec_f7df_11e9_9633_126254733de4row4_col8 {\n",
       "            background-color:  #5470de;\n",
       "        }    #T_75a5bcec_f7df_11e9_9633_126254733de4row4_col9 {\n",
       "            background-color:  #f7b79b;\n",
       "        }    #T_75a5bcec_f7df_11e9_9633_126254733de4row4_col10 {\n",
       "            background-color:  #3b4cc0;\n",
       "        }    #T_75a5bcec_f7df_11e9_9633_126254733de4row4_col11 {\n",
       "            background-color:  #a3c2fe;\n",
       "        }    #T_75a5bcec_f7df_11e9_9633_126254733de4row4_col12 {\n",
       "            background-color:  #3b4cc0;\n",
       "        }    #T_75a5bcec_f7df_11e9_9633_126254733de4row4_col13 {\n",
       "            background-color:  #3e51c5;\n",
       "        }    #T_75a5bcec_f7df_11e9_9633_126254733de4row5_col0 {\n",
       "            background-color:  #4961d2;\n",
       "        }    #T_75a5bcec_f7df_11e9_9633_126254733de4row5_col1 {\n",
       "            background-color:  #3b4cc0;\n",
       "        }    #T_75a5bcec_f7df_11e9_9633_126254733de4row5_col2 {\n",
       "            background-color:  #5572df;\n",
       "        }    #T_75a5bcec_f7df_11e9_9633_126254733de4row5_col3 {\n",
       "            background-color:  #4358cb;\n",
       "        }    #T_75a5bcec_f7df_11e9_9633_126254733de4row5_col4 {\n",
       "            background-color:  #a5c3fe;\n",
       "        }    #T_75a5bcec_f7df_11e9_9633_126254733de4row5_col5 {\n",
       "            background-color:  #b40426;\n",
       "        }    #T_75a5bcec_f7df_11e9_9633_126254733de4row5_col6 {\n",
       "            background-color:  #485fd1;\n",
       "        }    #T_75a5bcec_f7df_11e9_9633_126254733de4row5_col7 {\n",
       "            background-color:  #3b4cc0;\n",
       "        }    #T_75a5bcec_f7df_11e9_9633_126254733de4row5_col8 {\n",
       "            background-color:  #3b4cc0;\n",
       "        }    #T_75a5bcec_f7df_11e9_9633_126254733de4row5_col9 {\n",
       "            background-color:  #445acc;\n",
       "        }    #T_75a5bcec_f7df_11e9_9633_126254733de4row5_col10 {\n",
       "            background-color:  #a6c4fe;\n",
       "        }    #T_75a5bcec_f7df_11e9_9633_126254733de4row5_col11 {\n",
       "            background-color:  #3b4cc0;\n",
       "        }    #T_75a5bcec_f7df_11e9_9633_126254733de4row5_col12 {\n",
       "            background-color:  #6687ed;\n",
       "        }    #T_75a5bcec_f7df_11e9_9633_126254733de4row5_col13 {\n",
       "            background-color:  #4358cb;\n",
       "        }    #T_75a5bcec_f7df_11e9_9633_126254733de4row6_col0 {\n",
       "            background-color:  #4961d2;\n",
       "        }    #T_75a5bcec_f7df_11e9_9633_126254733de4row6_col1 {\n",
       "            background-color:  #506bda;\n",
       "        }    #T_75a5bcec_f7df_11e9_9633_126254733de4row6_col2 {\n",
       "            background-color:  #3d50c3;\n",
       "        }    #T_75a5bcec_f7df_11e9_9633_126254733de4row6_col3 {\n",
       "            background-color:  #506bda;\n",
       "        }    #T_75a5bcec_f7df_11e9_9633_126254733de4row6_col4 {\n",
       "            background-color:  #aec9fc;\n",
       "        }    #T_75a5bcec_f7df_11e9_9633_126254733de4row6_col5 {\n",
       "            background-color:  #9abbff;\n",
       "        }    #T_75a5bcec_f7df_11e9_9633_126254733de4row6_col6 {\n",
       "            background-color:  #b40426;\n",
       "        }    #T_75a5bcec_f7df_11e9_9633_126254733de4row6_col7 {\n",
       "            background-color:  #6180e9;\n",
       "        }    #T_75a5bcec_f7df_11e9_9633_126254733de4row6_col8 {\n",
       "            background-color:  #5470de;\n",
       "        }    #T_75a5bcec_f7df_11e9_9633_126254733de4row6_col9 {\n",
       "            background-color:  #5875e1;\n",
       "        }    #T_75a5bcec_f7df_11e9_9633_126254733de4row6_col10 {\n",
       "            background-color:  #aec9fc;\n",
       "        }    #T_75a5bcec_f7df_11e9_9633_126254733de4row6_col11 {\n",
       "            background-color:  #ee8669;\n",
       "        }    #T_75a5bcec_f7df_11e9_9633_126254733de4row6_col12 {\n",
       "            background-color:  #6282ea;\n",
       "        }    #T_75a5bcec_f7df_11e9_9633_126254733de4row6_col13 {\n",
       "            background-color:  #506bda;\n",
       "        }    #T_75a5bcec_f7df_11e9_9633_126254733de4row7_col0 {\n",
       "            background-color:  #5b7ae5;\n",
       "        }    #T_75a5bcec_f7df_11e9_9633_126254733de4row7_col1 {\n",
       "            background-color:  #a6c4fe;\n",
       "        }    #T_75a5bcec_f7df_11e9_9633_126254733de4row7_col2 {\n",
       "            background-color:  #9fbfff;\n",
       "        }    #T_75a5bcec_f7df_11e9_9633_126254733de4row7_col3 {\n",
       "            background-color:  #4358cb;\n",
       "        }    #T_75a5bcec_f7df_11e9_9633_126254733de4row7_col4 {\n",
       "            background-color:  #a1c0ff;\n",
       "        }    #T_75a5bcec_f7df_11e9_9633_126254733de4row7_col5 {\n",
       "            background-color:  #85a8fc;\n",
       "        }    #T_75a5bcec_f7df_11e9_9633_126254733de4row7_col6 {\n",
       "            background-color:  #5875e1;\n",
       "        }    #T_75a5bcec_f7df_11e9_9633_126254733de4row7_col7 {\n",
       "            background-color:  #b40426;\n",
       "        }    #T_75a5bcec_f7df_11e9_9633_126254733de4row7_col8 {\n",
       "            background-color:  #9bbcff;\n",
       "        }    #T_75a5bcec_f7df_11e9_9633_126254733de4row7_col9 {\n",
       "            background-color:  #4055c8;\n",
       "        }    #T_75a5bcec_f7df_11e9_9633_126254733de4row7_col10 {\n",
       "            background-color:  #aac7fd;\n",
       "        }    #T_75a5bcec_f7df_11e9_9633_126254733de4row7_col11 {\n",
       "            background-color:  #b1cbfc;\n",
       "        }    #T_75a5bcec_f7df_11e9_9633_126254733de4row7_col12 {\n",
       "            background-color:  #516ddb;\n",
       "        }    #T_75a5bcec_f7df_11e9_9633_126254733de4row7_col13 {\n",
       "            background-color:  #4358cb;\n",
       "        }    #T_75a5bcec_f7df_11e9_9633_126254733de4row8_col0 {\n",
       "            background-color:  #4e68d8;\n",
       "        }    #T_75a5bcec_f7df_11e9_9633_126254733de4row8_col1 {\n",
       "            background-color:  #d1493f;\n",
       "        }    #T_75a5bcec_f7df_11e9_9633_126254733de4row8_col2 {\n",
       "            background-color:  #4c66d6;\n",
       "        }    #T_75a5bcec_f7df_11e9_9633_126254733de4row8_col3 {\n",
       "            background-color:  #4b64d5;\n",
       "        }    #T_75a5bcec_f7df_11e9_9633_126254733de4row8_col4 {\n",
       "            background-color:  #aac7fd;\n",
       "        }    #T_75a5bcec_f7df_11e9_9633_126254733de4row8_col5 {\n",
       "            background-color:  #8caffe;\n",
       "        }    #T_75a5bcec_f7df_11e9_9633_126254733de4row8_col6 {\n",
       "            background-color:  #5470de;\n",
       "        }    #T_75a5bcec_f7df_11e9_9633_126254733de4row8_col7 {\n",
       "            background-color:  #a3c2fe;\n",
       "        }    #T_75a5bcec_f7df_11e9_9633_126254733de4row8_col8 {\n",
       "            background-color:  #b40426;\n",
       "        }    #T_75a5bcec_f7df_11e9_9633_126254733de4row8_col9 {\n",
       "            background-color:  #506bda;\n",
       "        }    #T_75a5bcec_f7df_11e9_9633_126254733de4row8_col10 {\n",
       "            background-color:  #a7c5fe;\n",
       "        }    #T_75a5bcec_f7df_11e9_9633_126254733de4row8_col11 {\n",
       "            background-color:  #aac7fd;\n",
       "        }    #T_75a5bcec_f7df_11e9_9633_126254733de4row8_col12 {\n",
       "            background-color:  #5d7ce6;\n",
       "        }    #T_75a5bcec_f7df_11e9_9633_126254733de4row8_col13 {\n",
       "            background-color:  #4b64d5;\n",
       "        }    #T_75a5bcec_f7df_11e9_9633_126254733de4row9_col0 {\n",
       "            background-color:  #3b4cc0;\n",
       "        }    #T_75a5bcec_f7df_11e9_9633_126254733de4row9_col1 {\n",
       "            background-color:  #506bda;\n",
       "        }    #T_75a5bcec_f7df_11e9_9633_126254733de4row9_col2 {\n",
       "            background-color:  #465ecf;\n",
       "        }    #T_75a5bcec_f7df_11e9_9633_126254733de4row9_col3 {\n",
       "            background-color:  #f4987a;\n",
       "        }    #T_75a5bcec_f7df_11e9_9633_126254733de4row9_col4 {\n",
       "            background-color:  #f29274;\n",
       "        }    #T_75a5bcec_f7df_11e9_9633_126254733de4row9_col5 {\n",
       "            background-color:  #9ebeff;\n",
       "        }    #T_75a5bcec_f7df_11e9_9633_126254733de4row9_col6 {\n",
       "            background-color:  #6180e9;\n",
       "        }    #T_75a5bcec_f7df_11e9_9633_126254733de4row9_col7 {\n",
       "            background-color:  #536edd;\n",
       "        }    #T_75a5bcec_f7df_11e9_9633_126254733de4row9_col8 {\n",
       "            background-color:  #5977e3;\n",
       "        }    #T_75a5bcec_f7df_11e9_9633_126254733de4row9_col9 {\n",
       "            background-color:  #b40426;\n",
       "        }    #T_75a5bcec_f7df_11e9_9633_126254733de4row9_col10 {\n",
       "            background-color:  #cbd8ee;\n",
       "        }    #T_75a5bcec_f7df_11e9_9633_126254733de4row9_col11 {\n",
       "            background-color:  #a5c3fe;\n",
       "        }    #T_75a5bcec_f7df_11e9_9633_126254733de4row9_col12 {\n",
       "            background-color:  #779af7;\n",
       "        }    #T_75a5bcec_f7df_11e9_9633_126254733de4row9_col13 {\n",
       "            background-color:  #f4987a;\n",
       "        }    #T_75a5bcec_f7df_11e9_9633_126254733de4row10_col0 {\n",
       "            background-color:  #4358cb;\n",
       "        }    #T_75a5bcec_f7df_11e9_9633_126254733de4row10_col1 {\n",
       "            background-color:  #4e68d8;\n",
       "        }    #T_75a5bcec_f7df_11e9_9633_126254733de4row10_col2 {\n",
       "            background-color:  #6a8bef;\n",
       "        }    #T_75a5bcec_f7df_11e9_9633_126254733de4row10_col3 {\n",
       "            background-color:  #f6bea4;\n",
       "        }    #T_75a5bcec_f7df_11e9_9633_126254733de4row10_col4 {\n",
       "            background-color:  #3b4cc0;\n",
       "        }    #T_75a5bcec_f7df_11e9_9633_126254733de4row10_col5 {\n",
       "            background-color:  #9fbfff;\n",
       "        }    #T_75a5bcec_f7df_11e9_9633_126254733de4row10_col6 {\n",
       "            background-color:  #5875e1;\n",
       "        }    #T_75a5bcec_f7df_11e9_9633_126254733de4row10_col7 {\n",
       "            background-color:  #5d7ce6;\n",
       "        }    #T_75a5bcec_f7df_11e9_9633_126254733de4row10_col8 {\n",
       "            background-color:  #506bda;\n",
       "        }    #T_75a5bcec_f7df_11e9_9633_126254733de4row10_col9 {\n",
       "            background-color:  #7a9df8;\n",
       "        }    #T_75a5bcec_f7df_11e9_9633_126254733de4row10_col10 {\n",
       "            background-color:  #b40426;\n",
       "        }    #T_75a5bcec_f7df_11e9_9633_126254733de4row10_col11 {\n",
       "            background-color:  #a1c0ff;\n",
       "        }    #T_75a5bcec_f7df_11e9_9633_126254733de4row10_col12 {\n",
       "            background-color:  #dcdddd;\n",
       "        }    #T_75a5bcec_f7df_11e9_9633_126254733de4row10_col13 {\n",
       "            background-color:  #f6bea4;\n",
       "        }    #T_75a5bcec_f7df_11e9_9633_126254733de4row11_col0 {\n",
       "            background-color:  #4358cb;\n",
       "        }    #T_75a5bcec_f7df_11e9_9633_126254733de4row11_col1 {\n",
       "            background-color:  #5977e3;\n",
       "        }    #T_75a5bcec_f7df_11e9_9633_126254733de4row11_col2 {\n",
       "            background-color:  #4055c8;\n",
       "        }    #T_75a5bcec_f7df_11e9_9633_126254733de4row11_col3 {\n",
       "            background-color:  #4961d2;\n",
       "        }    #T_75a5bcec_f7df_11e9_9633_126254733de4row11_col4 {\n",
       "            background-color:  #aac7fd;\n",
       "        }    #T_75a5bcec_f7df_11e9_9633_126254733de4row11_col5 {\n",
       "            background-color:  #3b4cc0;\n",
       "        }    #T_75a5bcec_f7df_11e9_9633_126254733de4row11_col6 {\n",
       "            background-color:  #f6a385;\n",
       "        }    #T_75a5bcec_f7df_11e9_9633_126254733de4row11_col7 {\n",
       "            background-color:  #6f92f3;\n",
       "        }    #T_75a5bcec_f7df_11e9_9633_126254733de4row11_col8 {\n",
       "            background-color:  #5d7ce6;\n",
       "        }    #T_75a5bcec_f7df_11e9_9633_126254733de4row11_col9 {\n",
       "            background-color:  #4e68d8;\n",
       "        }    #T_75a5bcec_f7df_11e9_9633_126254733de4row11_col10 {\n",
       "            background-color:  #a7c5fe;\n",
       "        }    #T_75a5bcec_f7df_11e9_9633_126254733de4row11_col11 {\n",
       "            background-color:  #b40426;\n",
       "        }    #T_75a5bcec_f7df_11e9_9633_126254733de4row11_col12 {\n",
       "            background-color:  #688aef;\n",
       "        }    #T_75a5bcec_f7df_11e9_9633_126254733de4row11_col13 {\n",
       "            background-color:  #4961d2;\n",
       "        }    #T_75a5bcec_f7df_11e9_9633_126254733de4row12_col0 {\n",
       "            background-color:  #485fd1;\n",
       "        }    #T_75a5bcec_f7df_11e9_9633_126254733de4row12_col1 {\n",
       "            background-color:  #455cce;\n",
       "        }    #T_75a5bcec_f7df_11e9_9633_126254733de4row12_col2 {\n",
       "            background-color:  #6180e9;\n",
       "        }    #T_75a5bcec_f7df_11e9_9633_126254733de4row12_col3 {\n",
       "            background-color:  #8badfd;\n",
       "        }    #T_75a5bcec_f7df_11e9_9633_126254733de4row12_col4 {\n",
       "            background-color:  #81a4fb;\n",
       "        }    #T_75a5bcec_f7df_11e9_9633_126254733de4row12_col5 {\n",
       "            background-color:  #9fbfff;\n",
       "        }    #T_75a5bcec_f7df_11e9_9633_126254733de4row12_col6 {\n",
       "            background-color:  #4b64d5;\n",
       "        }    #T_75a5bcec_f7df_11e9_9633_126254733de4row12_col7 {\n",
       "            background-color:  #445acc;\n",
       "        }    #T_75a5bcec_f7df_11e9_9633_126254733de4row12_col8 {\n",
       "            background-color:  #465ecf;\n",
       "        }    #T_75a5bcec_f7df_11e9_9633_126254733de4row12_col9 {\n",
       "            background-color:  #5875e1;\n",
       "        }    #T_75a5bcec_f7df_11e9_9633_126254733de4row12_col10 {\n",
       "            background-color:  #f2cab5;\n",
       "        }    #T_75a5bcec_f7df_11e9_9633_126254733de4row12_col11 {\n",
       "            background-color:  #a2c1ff;\n",
       "        }    #T_75a5bcec_f7df_11e9_9633_126254733de4row12_col12 {\n",
       "            background-color:  #b40426;\n",
       "        }    #T_75a5bcec_f7df_11e9_9633_126254733de4row12_col13 {\n",
       "            background-color:  #8badfd;\n",
       "        }    #T_75a5bcec_f7df_11e9_9633_126254733de4row13_col0 {\n",
       "            background-color:  #3c4ec2;\n",
       "        }    #T_75a5bcec_f7df_11e9_9633_126254733de4row13_col1 {\n",
       "            background-color:  #506bda;\n",
       "        }    #T_75a5bcec_f7df_11e9_9633_126254733de4row13_col2 {\n",
       "            background-color:  #5875e1;\n",
       "        }    #T_75a5bcec_f7df_11e9_9633_126254733de4row13_col3 {\n",
       "            background-color:  #b40426;\n",
       "        }    #T_75a5bcec_f7df_11e9_9633_126254733de4row13_col4 {\n",
       "            background-color:  #a3c2fe;\n",
       "        }    #T_75a5bcec_f7df_11e9_9633_126254733de4row13_col5 {\n",
       "            background-color:  #9fbfff;\n",
       "        }    #T_75a5bcec_f7df_11e9_9633_126254733de4row13_col6 {\n",
       "            background-color:  #5b7ae5;\n",
       "        }    #T_75a5bcec_f7df_11e9_9633_126254733de4row13_col7 {\n",
       "            background-color:  #5673e0;\n",
       "        }    #T_75a5bcec_f7df_11e9_9633_126254733de4row13_col8 {\n",
       "            background-color:  #5875e1;\n",
       "        }    #T_75a5bcec_f7df_11e9_9633_126254733de4row13_col9 {\n",
       "            background-color:  #f39778;\n",
       "        }    #T_75a5bcec_f7df_11e9_9633_126254733de4row13_col10 {\n",
       "            background-color:  #f39778;\n",
       "        }    #T_75a5bcec_f7df_11e9_9633_126254733de4row13_col11 {\n",
       "            background-color:  #a3c2fe;\n",
       "        }    #T_75a5bcec_f7df_11e9_9633_126254733de4row13_col12 {\n",
       "            background-color:  #a7c5fe;\n",
       "        }    #T_75a5bcec_f7df_11e9_9633_126254733de4row13_col13 {\n",
       "            background-color:  #b40426;\n",
       "        }</style>  \n",
       "<table id=\"T_75a5bcec_f7df_11e9_9633_126254733de4\" > \n",
       "<thead>    <tr> \n",
       "        <th class=\"blank level0\" ></th> \n",
       "        <th class=\"col_heading level0 col0\" >id</th> \n",
       "        <th class=\"col_heading level0 col1\" >bmi</th> \n",
       "        <th class=\"col_heading level0 col2\" >income</th> \n",
       "        <th class=\"col_heading level0 col3\" >eat_pri</th> \n",
       "        <th class=\"col_heading level0 col4\" >eat_sec</th> \n",
       "        <th class=\"col_heading level0 col5\" >exercise_freq</th> \n",
       "        <th class=\"col_heading level0 col6\" >fastfood_freq</th> \n",
       "        <th class=\"col_heading level0 col7\" >healthfeeling</th> \n",
       "        <th class=\"col_heading level0 col8\" >body</th> \n",
       "        <th class=\"col_heading level0 col9\" >eat_total</th> \n",
       "        <th class=\"col_heading level0 col10\" >eat_importance</th> \n",
       "        <th class=\"col_heading level0 col11\" >exer_fast_percentage</th> \n",
       "        <th class=\"col_heading level0 col12\" >eat_freq_in_activity</th> \n",
       "        <th class=\"col_heading level0 col13\" >eat_time_in_activity</th> \n",
       "    </tr></thead> \n",
       "<tbody>    <tr> \n",
       "        <th id=\"T_75a5bcec_f7df_11e9_9633_126254733de4level0_row0\" class=\"row_heading level0 row0\" >id</th> \n",
       "        <td id=\"T_75a5bcec_f7df_11e9_9633_126254733de4row0_col0\" class=\"data row0 col0\" >1</td> \n",
       "        <td id=\"T_75a5bcec_f7df_11e9_9633_126254733de4row0_col1\" class=\"data row0 col1\" >0.0420619</td> \n",
       "        <td id=\"T_75a5bcec_f7df_11e9_9633_126254733de4row0_col2\" class=\"data row0 col2\" >0.00304178</td> \n",
       "        <td id=\"T_75a5bcec_f7df_11e9_9633_126254733de4row0_col3\" class=\"data row0 col3\" >-0.0267423</td> \n",
       "        <td id=\"T_75a5bcec_f7df_11e9_9633_126254733de4row0_col4\" class=\"data row0 col4\" >-0.0200765</td> \n",
       "        <td id=\"T_75a5bcec_f7df_11e9_9633_126254733de4row0_col5\" class=\"data row0 col5\" >0.0163619</td> \n",
       "        <td id=\"T_75a5bcec_f7df_11e9_9633_126254733de4row0_col6\" class=\"data row0 col6\" >0.0167945</td> \n",
       "        <td id=\"T_75a5bcec_f7df_11e9_9633_126254733de4row0_col7\" class=\"data row0 col7\" >0.0765745</td> \n",
       "        <td id=\"T_75a5bcec_f7df_11e9_9633_126254733de4row0_col8\" class=\"data row0 col8\" >0.031304</td> \n",
       "        <td id=\"T_75a5bcec_f7df_11e9_9633_126254733de4row0_col9\" class=\"data row0 col9\" >-0.0335182</td> \n",
       "        <td id=\"T_75a5bcec_f7df_11e9_9633_126254733de4row0_col10\" class=\"data row0 col10\" >-0.00464142</td> \n",
       "        <td id=\"T_75a5bcec_f7df_11e9_9633_126254733de4row0_col11\" class=\"data row0 col11\" >-0.00491538</td> \n",
       "        <td id=\"T_75a5bcec_f7df_11e9_9633_126254733de4row0_col12\" class=\"data row0 col12\" >0.0132328</td> \n",
       "        <td id=\"T_75a5bcec_f7df_11e9_9633_126254733de4row0_col13\" class=\"data row0 col13\" >-0.0267423</td> \n",
       "    </tr>    <tr> \n",
       "        <th id=\"T_75a5bcec_f7df_11e9_9633_126254733de4level0_row1\" class=\"row_heading level0 row1\" >bmi</th> \n",
       "        <td id=\"T_75a5bcec_f7df_11e9_9633_126254733de4row1_col0\" class=\"data row1 col0\" >0.0420619</td> \n",
       "        <td id=\"T_75a5bcec_f7df_11e9_9633_126254733de4row1_col1\" class=\"data row1 col1\" >1</td> \n",
       "        <td id=\"T_75a5bcec_f7df_11e9_9633_126254733de4row1_col2\" class=\"data row1 col2\" >0.0113022</td> \n",
       "        <td id=\"T_75a5bcec_f7df_11e9_9633_126254733de4row1_col3\" class=\"data row1 col3\" >0.019972</td> \n",
       "        <td id=\"T_75a5bcec_f7df_11e9_9633_126254733de4row1_col4\" class=\"data row1 col4\" >0.00380919</td> \n",
       "        <td id=\"T_75a5bcec_f7df_11e9_9633_126254733de4row1_col5\" class=\"data row1 col5\" >-0.0579484</td> \n",
       "        <td id=\"T_75a5bcec_f7df_11e9_9633_126254733de4row1_col6\" class=\"data row1 col6\" >0.018319</td> \n",
       "        <td id=\"T_75a5bcec_f7df_11e9_9633_126254733de4row1_col7\" class=\"data row1 col7\" >0.281176</td> \n",
       "        <td id=\"T_75a5bcec_f7df_11e9_9633_126254733de4row1_col8\" class=\"data row1 col8\" >0.910883</td> \n",
       "        <td id=\"T_75a5bcec_f7df_11e9_9633_126254733de4row1_col9\" class=\"data row1 col9\" >0.0175978</td> \n",
       "        <td id=\"T_75a5bcec_f7df_11e9_9633_126254733de4row1_col10\" class=\"data row1 col10\" >0.00868637</td> \n",
       "        <td id=\"T_75a5bcec_f7df_11e9_9633_126254733de4row1_col11\" class=\"data row1 col11\" >0.0453799</td> \n",
       "        <td id=\"T_75a5bcec_f7df_11e9_9633_126254733de4row1_col12\" class=\"data row1 col12\" >-0.0198503</td> \n",
       "        <td id=\"T_75a5bcec_f7df_11e9_9633_126254733de4row1_col13\" class=\"data row1 col13\" >0.019972</td> \n",
       "    </tr>    <tr> \n",
       "        <th id=\"T_75a5bcec_f7df_11e9_9633_126254733de4level0_row2\" class=\"row_heading level0 row2\" >income</th> \n",
       "        <td id=\"T_75a5bcec_f7df_11e9_9633_126254733de4row2_col0\" class=\"data row2 col0\" >0.00304178</td> \n",
       "        <td id=\"T_75a5bcec_f7df_11e9_9633_126254733de4row2_col1\" class=\"data row2 col1\" >0.0113022</td> \n",
       "        <td id=\"T_75a5bcec_f7df_11e9_9633_126254733de4row2_col2\" class=\"data row2 col2\" >1</td> \n",
       "        <td id=\"T_75a5bcec_f7df_11e9_9633_126254733de4row2_col3\" class=\"data row2 col3\" >0.0229106</td> \n",
       "        <td id=\"T_75a5bcec_f7df_11e9_9633_126254733de4row2_col4\" class=\"data row2 col4\" >-0.0804464</td> \n",
       "        <td id=\"T_75a5bcec_f7df_11e9_9633_126254733de4row2_col5\" class=\"data row2 col5\" >0.0160746</td> \n",
       "        <td id=\"T_75a5bcec_f7df_11e9_9633_126254733de4row2_col6\" class=\"data row2 col6\" >-0.0682116</td> \n",
       "        <td id=\"T_75a5bcec_f7df_11e9_9633_126254733de4row2_col7\" class=\"data row2 col7\" >0.244675</td> \n",
       "        <td id=\"T_75a5bcec_f7df_11e9_9633_126254733de4row2_col8\" class=\"data row2 col8\" >-0.0146649</td> \n",
       "        <td id=\"T_75a5bcec_f7df_11e9_9633_126254733de4row2_col9\" class=\"data row2 col9\" >-0.0361922</td> \n",
       "        <td id=\"T_75a5bcec_f7df_11e9_9633_126254733de4row2_col10\" class=\"data row2 col10\" >0.0826239</td> \n",
       "        <td id=\"T_75a5bcec_f7df_11e9_9633_126254733de4row2_col11\" class=\"data row2 col11\" >-0.0575803</td> \n",
       "        <td id=\"T_75a5bcec_f7df_11e9_9633_126254733de4row2_col12\" class=\"data row2 col12\" >0.0537945</td> \n",
       "        <td id=\"T_75a5bcec_f7df_11e9_9633_126254733de4row2_col13\" class=\"data row2 col13\" >0.0229106</td> \n",
       "    </tr>    <tr> \n",
       "        <th id=\"T_75a5bcec_f7df_11e9_9633_126254733de4level0_row3\" class=\"row_heading level0 row3\" >eat_pri</th> \n",
       "        <td id=\"T_75a5bcec_f7df_11e9_9633_126254733de4row3_col0\" class=\"data row3 col0\" >-0.0267423</td> \n",
       "        <td id=\"T_75a5bcec_f7df_11e9_9633_126254733de4row3_col1\" class=\"data row3 col1\" >0.019972</td> \n",
       "        <td id=\"T_75a5bcec_f7df_11e9_9633_126254733de4row3_col2\" class=\"data row3 col2\" >0.0229106</td> \n",
       "        <td id=\"T_75a5bcec_f7df_11e9_9633_126254733de4row3_col3\" class=\"data row3 col3\" >1</td> \n",
       "        <td id=\"T_75a5bcec_f7df_11e9_9633_126254733de4row3_col4\" class=\"data row3 col4\" >-0.0108594</td> \n",
       "        <td id=\"T_75a5bcec_f7df_11e9_9633_126254733de4row3_col5\" class=\"data row3 col5\" >0.00347734</td> \n",
       "        <td id=\"T_75a5bcec_f7df_11e9_9633_126254733de4row3_col6\" class=\"data row3 col6\" >0.0483778</td> \n",
       "        <td id=\"T_75a5bcec_f7df_11e9_9633_126254733de4row3_col7\" class=\"data row3 col7\" >0.00135169</td> \n",
       "        <td id=\"T_75a5bcec_f7df_11e9_9633_126254733de4row3_col8\" class=\"data row3 col8\" >0.0312118</td> \n",
       "        <td id=\"T_75a5bcec_f7df_11e9_9633_126254733de4row3_col9\" class=\"data row3 col9\" >0.747124</td> \n",
       "        <td id=\"T_75a5bcec_f7df_11e9_9633_126254733de4row3_col10\" class=\"data row3 col10\" >0.638734</td> \n",
       "        <td id=\"T_75a5bcec_f7df_11e9_9633_126254733de4row3_col11\" class=\"data row3 col11\" >0.021962</td> \n",
       "        <td id=\"T_75a5bcec_f7df_11e9_9633_126254733de4row3_col12\" class=\"data row3 col12\" >0.222132</td> \n",
       "        <td id=\"T_75a5bcec_f7df_11e9_9633_126254733de4row3_col13\" class=\"data row3 col13\" >1</td> \n",
       "    </tr>    <tr> \n",
       "        <th id=\"T_75a5bcec_f7df_11e9_9633_126254733de4level0_row4\" class=\"row_heading level0 row4\" >eat_sec</th> \n",
       "        <td id=\"T_75a5bcec_f7df_11e9_9633_126254733de4row4_col0\" class=\"data row4 col0\" >-0.0200765</td> \n",
       "        <td id=\"T_75a5bcec_f7df_11e9_9633_126254733de4row4_col1\" class=\"data row4 col1\" >0.00380919</td> \n",
       "        <td id=\"T_75a5bcec_f7df_11e9_9633_126254733de4row4_col2\" class=\"data row4 col2\" >-0.0804464</td> \n",
       "        <td id=\"T_75a5bcec_f7df_11e9_9633_126254733de4row4_col3\" class=\"data row4 col3\" >-0.0108594</td> \n",
       "        <td id=\"T_75a5bcec_f7df_11e9_9633_126254733de4row4_col4\" class=\"data row4 col4\" >1</td> \n",
       "        <td id=\"T_75a5bcec_f7df_11e9_9633_126254733de4row4_col5\" class=\"data row4 col5\" >-0.00509764</td> \n",
       "        <td id=\"T_75a5bcec_f7df_11e9_9633_126254733de4row4_col6\" class=\"data row4 col6\" >0.0379626</td> \n",
       "        <td id=\"T_75a5bcec_f7df_11e9_9633_126254733de4row4_col7\" class=\"data row4 col7\" >-0.022507</td> \n",
       "        <td id=\"T_75a5bcec_f7df_11e9_9633_126254733de4row4_col8\" class=\"data row4 col8\" >0.0198563</td> \n",
       "        <td id=\"T_75a5bcec_f7df_11e9_9633_126254733de4row4_col9\" class=\"data row4 col9\" >0.656532</td> \n",
       "        <td id=\"T_75a5bcec_f7df_11e9_9633_126254733de4row4_col10\" class=\"data row4 col10\" >-0.471584</td> \n",
       "        <td id=\"T_75a5bcec_f7df_11e9_9633_126254733de4row4_col11\" class=\"data row4 col11\" >0.0200874</td> \n",
       "        <td id=\"T_75a5bcec_f7df_11e9_9633_126254733de4row4_col12\" class=\"data row4 col12\" >-0.154922</td> \n",
       "        <td id=\"T_75a5bcec_f7df_11e9_9633_126254733de4row4_col13\" class=\"data row4 col13\" >-0.0108594</td> \n",
       "    </tr>    <tr> \n",
       "        <th id=\"T_75a5bcec_f7df_11e9_9633_126254733de4level0_row5\" class=\"row_heading level0 row5\" >exercise_freq</th> \n",
       "        <td id=\"T_75a5bcec_f7df_11e9_9633_126254733de4row5_col0\" class=\"data row5 col0\" >0.0163619</td> \n",
       "        <td id=\"T_75a5bcec_f7df_11e9_9633_126254733de4row5_col1\" class=\"data row5 col1\" >-0.0579484</td> \n",
       "        <td id=\"T_75a5bcec_f7df_11e9_9633_126254733de4row5_col2\" class=\"data row5 col2\" >0.0160746</td> \n",
       "        <td id=\"T_75a5bcec_f7df_11e9_9633_126254733de4row5_col3\" class=\"data row5 col3\" >0.00347734</td> \n",
       "        <td id=\"T_75a5bcec_f7df_11e9_9633_126254733de4row5_col4\" class=\"data row5 col4\" >-0.00509764</td> \n",
       "        <td id=\"T_75a5bcec_f7df_11e9_9633_126254733de4row5_col5\" class=\"data row5 col5\" >1</td> \n",
       "        <td id=\"T_75a5bcec_f7df_11e9_9633_126254733de4row5_col6\" class=\"data row5 col6\" >-0.0186189</td> \n",
       "        <td id=\"T_75a5bcec_f7df_11e9_9633_126254733de4row5_col7\" class=\"data row5 col7\" >-0.101632</td> \n",
       "        <td id=\"T_75a5bcec_f7df_11e9_9633_126254733de4row5_col8\" class=\"data row5 col8\" >-0.0694987</td> \n",
       "        <td id=\"T_75a5bcec_f7df_11e9_9633_126254733de4row5_col9\" class=\"data row5 col9\" >-0.000765414</td> \n",
       "        <td id=\"T_75a5bcec_f7df_11e9_9633_126254733de4row5_col10\" class=\"data row5 col10\" >0.0040569</td> \n",
       "        <td id=\"T_75a5bcec_f7df_11e9_9633_126254733de4row5_col11\" class=\"data row5 col11\" >-0.42537</td> \n",
       "        <td id=\"T_75a5bcec_f7df_11e9_9633_126254733de4row5_col12\" class=\"data row5 col12\" >0.00623182</td> \n",
       "        <td id=\"T_75a5bcec_f7df_11e9_9633_126254733de4row5_col13\" class=\"data row5 col13\" >0.00347734</td> \n",
       "    </tr>    <tr> \n",
       "        <th id=\"T_75a5bcec_f7df_11e9_9633_126254733de4level0_row6\" class=\"row_heading level0 row6\" >fastfood_freq</th> \n",
       "        <td id=\"T_75a5bcec_f7df_11e9_9633_126254733de4row6_col0\" class=\"data row6 col0\" >0.0167945</td> \n",
       "        <td id=\"T_75a5bcec_f7df_11e9_9633_126254733de4row6_col1\" class=\"data row6 col1\" >0.018319</td> \n",
       "        <td id=\"T_75a5bcec_f7df_11e9_9633_126254733de4row6_col2\" class=\"data row6 col2\" >-0.0682116</td> \n",
       "        <td id=\"T_75a5bcec_f7df_11e9_9633_126254733de4row6_col3\" class=\"data row6 col3\" >0.0483778</td> \n",
       "        <td id=\"T_75a5bcec_f7df_11e9_9633_126254733de4row6_col4\" class=\"data row6 col4\" >0.0379626</td> \n",
       "        <td id=\"T_75a5bcec_f7df_11e9_9633_126254733de4row6_col5\" class=\"data row6 col5\" >-0.0186189</td> \n",
       "        <td id=\"T_75a5bcec_f7df_11e9_9633_126254733de4row6_col6\" class=\"data row6 col6\" >1</td> \n",
       "        <td id=\"T_75a5bcec_f7df_11e9_9633_126254733de4row6_col7\" class=\"data row6 col7\" >0.0324887</td> \n",
       "        <td id=\"T_75a5bcec_f7df_11e9_9633_126254733de4row6_col8\" class=\"data row6 col8\" >0.0200668</td> \n",
       "        <td id=\"T_75a5bcec_f7df_11e9_9633_126254733de4row6_col9\" class=\"data row6 col9\" >0.0617281</td> \n",
       "        <td id=\"T_75a5bcec_f7df_11e9_9633_126254733de4row6_col10\" class=\"data row6 col10\" >0.0357842</td> \n",
       "        <td id=\"T_75a5bcec_f7df_11e9_9633_126254733de4row6_col11\" class=\"data row6 col11\" >0.706138</td> \n",
       "        <td id=\"T_75a5bcec_f7df_11e9_9633_126254733de4row6_col12\" class=\"data row6 col12\" >-0.00890227</td> \n",
       "        <td id=\"T_75a5bcec_f7df_11e9_9633_126254733de4row6_col13\" class=\"data row6 col13\" >0.0483778</td> \n",
       "    </tr>    <tr> \n",
       "        <th id=\"T_75a5bcec_f7df_11e9_9633_126254733de4level0_row7\" class=\"row_heading level0 row7\" >healthfeeling</th> \n",
       "        <td id=\"T_75a5bcec_f7df_11e9_9633_126254733de4row7_col0\" class=\"data row7 col0\" >0.0765745</td> \n",
       "        <td id=\"T_75a5bcec_f7df_11e9_9633_126254733de4row7_col1\" class=\"data row7 col1\" >0.281176</td> \n",
       "        <td id=\"T_75a5bcec_f7df_11e9_9633_126254733de4row7_col2\" class=\"data row7 col2\" >0.244675</td> \n",
       "        <td id=\"T_75a5bcec_f7df_11e9_9633_126254733de4row7_col3\" class=\"data row7 col3\" >0.00135169</td> \n",
       "        <td id=\"T_75a5bcec_f7df_11e9_9633_126254733de4row7_col4\" class=\"data row7 col4\" >-0.022507</td> \n",
       "        <td id=\"T_75a5bcec_f7df_11e9_9633_126254733de4row7_col5\" class=\"data row7 col5\" >-0.101632</td> \n",
       "        <td id=\"T_75a5bcec_f7df_11e9_9633_126254733de4row7_col6\" class=\"data row7 col6\" >0.0324887</td> \n",
       "        <td id=\"T_75a5bcec_f7df_11e9_9633_126254733de4row7_col7\" class=\"data row7 col7\" >1</td> \n",
       "        <td id=\"T_75a5bcec_f7df_11e9_9633_126254733de4row7_col8\" class=\"data row7 col8\" >0.243214</td> \n",
       "        <td id=\"T_75a5bcec_f7df_11e9_9633_126254733de4row7_col9\" class=\"data row7 col9\" >-0.0139413</td> \n",
       "        <td id=\"T_75a5bcec_f7df_11e9_9633_126254733de4row7_col10\" class=\"data row7 col10\" >0.0203791</td> \n",
       "        <td id=\"T_75a5bcec_f7df_11e9_9633_126254733de4row7_col11\" class=\"data row7 col11\" >0.0803384</td> \n",
       "        <td id=\"T_75a5bcec_f7df_11e9_9633_126254733de4row7_col12\" class=\"data row7 col12\" >-0.0662131</td> \n",
       "        <td id=\"T_75a5bcec_f7df_11e9_9633_126254733de4row7_col13\" class=\"data row7 col13\" >0.00135169</td> \n",
       "    </tr>    <tr> \n",
       "        <th id=\"T_75a5bcec_f7df_11e9_9633_126254733de4level0_row8\" class=\"row_heading level0 row8\" >body</th> \n",
       "        <td id=\"T_75a5bcec_f7df_11e9_9633_126254733de4row8_col0\" class=\"data row8 col0\" >0.031304</td> \n",
       "        <td id=\"T_75a5bcec_f7df_11e9_9633_126254733de4row8_col1\" class=\"data row8 col1\" >0.910883</td> \n",
       "        <td id=\"T_75a5bcec_f7df_11e9_9633_126254733de4row8_col2\" class=\"data row8 col2\" >-0.0146649</td> \n",
       "        <td id=\"T_75a5bcec_f7df_11e9_9633_126254733de4row8_col3\" class=\"data row8 col3\" >0.0312118</td> \n",
       "        <td id=\"T_75a5bcec_f7df_11e9_9633_126254733de4row8_col4\" class=\"data row8 col4\" >0.0198563</td> \n",
       "        <td id=\"T_75a5bcec_f7df_11e9_9633_126254733de4row8_col5\" class=\"data row8 col5\" >-0.0694987</td> \n",
       "        <td id=\"T_75a5bcec_f7df_11e9_9633_126254733de4row8_col6\" class=\"data row8 col6\" >0.0200668</td> \n",
       "        <td id=\"T_75a5bcec_f7df_11e9_9633_126254733de4row8_col7\" class=\"data row8 col7\" >0.243214</td> \n",
       "        <td id=\"T_75a5bcec_f7df_11e9_9633_126254733de4row8_col8\" class=\"data row8 col8\" >1</td> \n",
       "        <td id=\"T_75a5bcec_f7df_11e9_9633_126254733de4row8_col9\" class=\"data row8 col9\" >0.0367434</td> \n",
       "        <td id=\"T_75a5bcec_f7df_11e9_9633_126254733de4row8_col10\" class=\"data row8 col10\" >0.00599528</td> \n",
       "        <td id=\"T_75a5bcec_f7df_11e9_9633_126254733de4row8_col11\" class=\"data row8 col11\" >0.0514623</td> \n",
       "        <td id=\"T_75a5bcec_f7df_11e9_9633_126254733de4row8_col12\" class=\"data row8 col12\" >-0.0265144</td> \n",
       "        <td id=\"T_75a5bcec_f7df_11e9_9633_126254733de4row8_col13\" class=\"data row8 col13\" >0.0312118</td> \n",
       "    </tr>    <tr> \n",
       "        <th id=\"T_75a5bcec_f7df_11e9_9633_126254733de4level0_row9\" class=\"row_heading level0 row9\" >eat_total</th> \n",
       "        <td id=\"T_75a5bcec_f7df_11e9_9633_126254733de4row9_col0\" class=\"data row9 col0\" >-0.0335182</td> \n",
       "        <td id=\"T_75a5bcec_f7df_11e9_9633_126254733de4row9_col1\" class=\"data row9 col1\" >0.0175978</td> \n",
       "        <td id=\"T_75a5bcec_f7df_11e9_9633_126254733de4row9_col2\" class=\"data row9 col2\" >-0.0361922</td> \n",
       "        <td id=\"T_75a5bcec_f7df_11e9_9633_126254733de4row9_col3\" class=\"data row9 col3\" >0.747124</td> \n",
       "        <td id=\"T_75a5bcec_f7df_11e9_9633_126254733de4row9_col4\" class=\"data row9 col4\" >0.656532</td> \n",
       "        <td id=\"T_75a5bcec_f7df_11e9_9633_126254733de4row9_col5\" class=\"data row9 col5\" >-0.000765414</td> \n",
       "        <td id=\"T_75a5bcec_f7df_11e9_9633_126254733de4row9_col6\" class=\"data row9 col6\" >0.0617281</td> \n",
       "        <td id=\"T_75a5bcec_f7df_11e9_9633_126254733de4row9_col7\" class=\"data row9 col7\" >-0.0139413</td> \n",
       "        <td id=\"T_75a5bcec_f7df_11e9_9633_126254733de4row9_col8\" class=\"data row9 col8\" >0.0367434</td> \n",
       "        <td id=\"T_75a5bcec_f7df_11e9_9633_126254733de4row9_col9\" class=\"data row9 col9\" >1</td> \n",
       "        <td id=\"T_75a5bcec_f7df_11e9_9633_126254733de4row9_col10\" class=\"data row9 col10\" >0.168352</td> \n",
       "        <td id=\"T_75a5bcec_f7df_11e9_9633_126254733de4row9_col11\" class=\"data row9 col11\" >0.0299194</td> \n",
       "        <td id=\"T_75a5bcec_f7df_11e9_9633_126254733de4row9_col12\" class=\"data row9 col12\" >0.0645827</td> \n",
       "        <td id=\"T_75a5bcec_f7df_11e9_9633_126254733de4row9_col13\" class=\"data row9 col13\" >0.747124</td> \n",
       "    </tr>    <tr> \n",
       "        <th id=\"T_75a5bcec_f7df_11e9_9633_126254733de4level0_row10\" class=\"row_heading level0 row10\" >eat_importance</th> \n",
       "        <td id=\"T_75a5bcec_f7df_11e9_9633_126254733de4row10_col0\" class=\"data row10 col0\" >-0.00464142</td> \n",
       "        <td id=\"T_75a5bcec_f7df_11e9_9633_126254733de4row10_col1\" class=\"data row10 col1\" >0.00868637</td> \n",
       "        <td id=\"T_75a5bcec_f7df_11e9_9633_126254733de4row10_col2\" class=\"data row10 col2\" >0.0826239</td> \n",
       "        <td id=\"T_75a5bcec_f7df_11e9_9633_126254733de4row10_col3\" class=\"data row10 col3\" >0.638734</td> \n",
       "        <td id=\"T_75a5bcec_f7df_11e9_9633_126254733de4row10_col4\" class=\"data row10 col4\" >-0.471584</td> \n",
       "        <td id=\"T_75a5bcec_f7df_11e9_9633_126254733de4row10_col5\" class=\"data row10 col5\" >0.0040569</td> \n",
       "        <td id=\"T_75a5bcec_f7df_11e9_9633_126254733de4row10_col6\" class=\"data row10 col6\" >0.0357842</td> \n",
       "        <td id=\"T_75a5bcec_f7df_11e9_9633_126254733de4row10_col7\" class=\"data row10 col7\" >0.0203791</td> \n",
       "        <td id=\"T_75a5bcec_f7df_11e9_9633_126254733de4row10_col8\" class=\"data row10 col8\" >0.00599528</td> \n",
       "        <td id=\"T_75a5bcec_f7df_11e9_9633_126254733de4row10_col9\" class=\"data row10 col9\" >0.168352</td> \n",
       "        <td id=\"T_75a5bcec_f7df_11e9_9633_126254733de4row10_col10\" class=\"data row10 col10\" >1</td> \n",
       "        <td id=\"T_75a5bcec_f7df_11e9_9633_126254733de4row10_col11\" class=\"data row10 col11\" >0.00996966</td> \n",
       "        <td id=\"T_75a5bcec_f7df_11e9_9633_126254733de4row10_col12\" class=\"data row10 col12\" >0.418537</td> \n",
       "        <td id=\"T_75a5bcec_f7df_11e9_9633_126254733de4row10_col13\" class=\"data row10 col13\" >0.638734</td> \n",
       "    </tr>    <tr> \n",
       "        <th id=\"T_75a5bcec_f7df_11e9_9633_126254733de4level0_row11\" class=\"row_heading level0 row11\" >exer_fast_percentage</th> \n",
       "        <td id=\"T_75a5bcec_f7df_11e9_9633_126254733de4row11_col0\" class=\"data row11 col0\" >-0.00491538</td> \n",
       "        <td id=\"T_75a5bcec_f7df_11e9_9633_126254733de4row11_col1\" class=\"data row11 col1\" >0.0453799</td> \n",
       "        <td id=\"T_75a5bcec_f7df_11e9_9633_126254733de4row11_col2\" class=\"data row11 col2\" >-0.0575803</td> \n",
       "        <td id=\"T_75a5bcec_f7df_11e9_9633_126254733de4row11_col3\" class=\"data row11 col3\" >0.021962</td> \n",
       "        <td id=\"T_75a5bcec_f7df_11e9_9633_126254733de4row11_col4\" class=\"data row11 col4\" >0.0200874</td> \n",
       "        <td id=\"T_75a5bcec_f7df_11e9_9633_126254733de4row11_col5\" class=\"data row11 col5\" >-0.42537</td> \n",
       "        <td id=\"T_75a5bcec_f7df_11e9_9633_126254733de4row11_col6\" class=\"data row11 col6\" >0.706138</td> \n",
       "        <td id=\"T_75a5bcec_f7df_11e9_9633_126254733de4row11_col7\" class=\"data row11 col7\" >0.0803384</td> \n",
       "        <td id=\"T_75a5bcec_f7df_11e9_9633_126254733de4row11_col8\" class=\"data row11 col8\" >0.0514623</td> \n",
       "        <td id=\"T_75a5bcec_f7df_11e9_9633_126254733de4row11_col9\" class=\"data row11 col9\" >0.0299194</td> \n",
       "        <td id=\"T_75a5bcec_f7df_11e9_9633_126254733de4row11_col10\" class=\"data row11 col10\" >0.00996966</td> \n",
       "        <td id=\"T_75a5bcec_f7df_11e9_9633_126254733de4row11_col11\" class=\"data row11 col11\" >1</td> \n",
       "        <td id=\"T_75a5bcec_f7df_11e9_9633_126254733de4row11_col12\" class=\"data row11 col12\" >0.0159895</td> \n",
       "        <td id=\"T_75a5bcec_f7df_11e9_9633_126254733de4row11_col13\" class=\"data row11 col13\" >0.021962</td> \n",
       "    </tr>    <tr> \n",
       "        <th id=\"T_75a5bcec_f7df_11e9_9633_126254733de4level0_row12\" class=\"row_heading level0 row12\" >eat_freq_in_activity</th> \n",
       "        <td id=\"T_75a5bcec_f7df_11e9_9633_126254733de4row12_col0\" class=\"data row12 col0\" >0.0132328</td> \n",
       "        <td id=\"T_75a5bcec_f7df_11e9_9633_126254733de4row12_col1\" class=\"data row12 col1\" >-0.0198503</td> \n",
       "        <td id=\"T_75a5bcec_f7df_11e9_9633_126254733de4row12_col2\" class=\"data row12 col2\" >0.0537945</td> \n",
       "        <td id=\"T_75a5bcec_f7df_11e9_9633_126254733de4row12_col3\" class=\"data row12 col3\" >0.222132</td> \n",
       "        <td id=\"T_75a5bcec_f7df_11e9_9633_126254733de4row12_col4\" class=\"data row12 col4\" >-0.154922</td> \n",
       "        <td id=\"T_75a5bcec_f7df_11e9_9633_126254733de4row12_col5\" class=\"data row12 col5\" >0.00623182</td> \n",
       "        <td id=\"T_75a5bcec_f7df_11e9_9633_126254733de4row12_col6\" class=\"data row12 col6\" >-0.00890227</td> \n",
       "        <td id=\"T_75a5bcec_f7df_11e9_9633_126254733de4row12_col7\" class=\"data row12 col7\" >-0.0662131</td> \n",
       "        <td id=\"T_75a5bcec_f7df_11e9_9633_126254733de4row12_col8\" class=\"data row12 col8\" >-0.0265144</td> \n",
       "        <td id=\"T_75a5bcec_f7df_11e9_9633_126254733de4row12_col9\" class=\"data row12 col9\" >0.0645827</td> \n",
       "        <td id=\"T_75a5bcec_f7df_11e9_9633_126254733de4row12_col10\" class=\"data row12 col10\" >0.418537</td> \n",
       "        <td id=\"T_75a5bcec_f7df_11e9_9633_126254733de4row12_col11\" class=\"data row12 col11\" >0.0159895</td> \n",
       "        <td id=\"T_75a5bcec_f7df_11e9_9633_126254733de4row12_col12\" class=\"data row12 col12\" >1</td> \n",
       "        <td id=\"T_75a5bcec_f7df_11e9_9633_126254733de4row12_col13\" class=\"data row12 col13\" >0.222132</td> \n",
       "    </tr>    <tr> \n",
       "        <th id=\"T_75a5bcec_f7df_11e9_9633_126254733de4level0_row13\" class=\"row_heading level0 row13\" >eat_time_in_activity</th> \n",
       "        <td id=\"T_75a5bcec_f7df_11e9_9633_126254733de4row13_col0\" class=\"data row13 col0\" >-0.0267423</td> \n",
       "        <td id=\"T_75a5bcec_f7df_11e9_9633_126254733de4row13_col1\" class=\"data row13 col1\" >0.019972</td> \n",
       "        <td id=\"T_75a5bcec_f7df_11e9_9633_126254733de4row13_col2\" class=\"data row13 col2\" >0.0229106</td> \n",
       "        <td id=\"T_75a5bcec_f7df_11e9_9633_126254733de4row13_col3\" class=\"data row13 col3\" >1</td> \n",
       "        <td id=\"T_75a5bcec_f7df_11e9_9633_126254733de4row13_col4\" class=\"data row13 col4\" >-0.0108594</td> \n",
       "        <td id=\"T_75a5bcec_f7df_11e9_9633_126254733de4row13_col5\" class=\"data row13 col5\" >0.00347734</td> \n",
       "        <td id=\"T_75a5bcec_f7df_11e9_9633_126254733de4row13_col6\" class=\"data row13 col6\" >0.0483778</td> \n",
       "        <td id=\"T_75a5bcec_f7df_11e9_9633_126254733de4row13_col7\" class=\"data row13 col7\" >0.00135169</td> \n",
       "        <td id=\"T_75a5bcec_f7df_11e9_9633_126254733de4row13_col8\" class=\"data row13 col8\" >0.0312118</td> \n",
       "        <td id=\"T_75a5bcec_f7df_11e9_9633_126254733de4row13_col9\" class=\"data row13 col9\" >0.747124</td> \n",
       "        <td id=\"T_75a5bcec_f7df_11e9_9633_126254733de4row13_col10\" class=\"data row13 col10\" >0.638734</td> \n",
       "        <td id=\"T_75a5bcec_f7df_11e9_9633_126254733de4row13_col11\" class=\"data row13 col11\" >0.021962</td> \n",
       "        <td id=\"T_75a5bcec_f7df_11e9_9633_126254733de4row13_col12\" class=\"data row13 col12\" >0.222132</td> \n",
       "        <td id=\"T_75a5bcec_f7df_11e9_9633_126254733de4row13_col13\" class=\"data row13 col13\" >1</td> \n",
       "    </tr></tbody> \n",
       "</table> "
      ],
      "text/plain": [
       "<pandas.io.formats.style.Styler at 0x7fef24d06940>"
      ]
     },
     "execution_count": 96,
     "metadata": {},
     "output_type": "execute_result"
    }
   ],
   "source": [
    "corr = df_corr.corr()\n",
    "corr.style.background_gradient(cmap='coolwarm')"
   ]
  },
  {
   "cell_type": "code",
   "execution_count": 97,
   "metadata": {},
   "outputs": [],
   "source": [
    "df_skew = df_new.select([skewness(col(c)).alias(c) for c in df_new.columns])"
   ]
  },
  {
   "cell_type": "code",
   "execution_count": 98,
   "metadata": {},
   "outputs": [
    {
     "data": {
      "text/plain": [
       "[Row(id=0.03919591171565702, bmi=0.9961655016294716, income=1.6861202513851226, eat_pri=5.951960128232159, eat_sec=1.38225448213815, exercise_freq=2.459796737254517, fastfood_freq=3.2926534664666867, healthfeeling=0.5663065717033204, body=0.051552742758970274, eat_total=2.768732322681003, eat_importance=1.0633921737433807, exer_fast_percentage=4.410719819534873, eat_freq_in_activity=2.207216835501244, eat_time_in_activity=5.951960128232159)]"
      ]
     },
     "execution_count": 98,
     "metadata": {},
     "output_type": "execute_result"
    }
   ],
   "source": [
    "df_skew.head(1)"
   ]
  },
  {
   "cell_type": "code",
   "execution_count": 99,
   "metadata": {},
   "outputs": [],
   "source": [
    "exer_fast_percentage = np.array(df_new.select('exer_fast_percentage').collect())"
   ]
  },
  {
   "cell_type": "code",
   "execution_count": 100,
   "metadata": {},
   "outputs": [
    {
     "data": {
      "text/plain": [
       "(array([2.64e+03, 1.93e+02, 4.70e+01, 1.40e+01, 2.00e+00, 0.00e+00,\n",
       "        0.00e+00, 0.00e+00, 0.00e+00, 1.00e+00]),\n",
       " array([ 0.0357 ,  2.13213,  4.22856,  6.32499,  8.42142, 10.51785,\n",
       "        12.61428, 14.71071, 16.80714, 18.90357, 21.     ]),\n",
       " <a list of 10 Patch objects>)"
      ]
     },
     "execution_count": 100,
     "metadata": {},
     "output_type": "execute_result"
    },
    {
     "data": {
      "image/png": "[encoded data removed]",
      "text/plain": [
       "<Figure size 432x288 with 1 Axes>"
      ]
     },
     "metadata": {},
     "output_type": "display_data"
    }
   ],
   "source": [
    "plt.hist(exer_fast_percentage)"
   ]
  },
  {
   "cell_type": "code",
   "execution_count": 101,
   "metadata": {},
   "outputs": [
    {
     "data": {
      "text/plain": [
       "(array([  7.,  18., 324., 681., 797., 617., 333.,  94.,  25.,   1.]),\n",
       " array([-3.33260459, -2.69489189, -2.05717918, -1.41946648, -0.78175378,\n",
       "        -0.14404108,  0.49367163,  1.13138433,  1.76909703,  2.40680973,\n",
       "         3.04452244]),\n",
       " <a list of 10 Patch objects>)"
      ]
     },
     "execution_count": 101,
     "metadata": {},
     "output_type": "execute_result"
    },
    {
     "data": {
      "image/png": "[encoded data removed]",
      "text/plain": [
       "<Figure size 432x288 with 1 Axes>"
      ]
     },
     "metadata": {},
     "output_type": "display_data"
    }
   ],
   "source": [
    "plt.hist(np.log(exer_fast_percentage))"
   ]
  },
  {
   "cell_type": "code",
   "execution_count": null,
   "metadata": {},
   "outputs": [],
   "source": []
  },
  {
   "cell_type": "code",
   "execution_count": 102,
   "metadata": {},
   "outputs": [],
   "source": [
    " df_new =  df_new.withColumn('exer_fast_percentage_log', F.log(df_new['exer_fast_percentage']))"
   ]
  },
  {
   "cell_type": "code",
   "execution_count": 103,
   "metadata": {},
   "outputs": [],
   "source": [
    " df_new =  df_new.withColumn('eat_time_in_activity_log', F.log(df_new['eat_time_in_activity']))"
   ]
  },
  {
   "cell_type": "code",
   "execution_count": 104,
   "metadata": {},
   "outputs": [],
   "source": [
    " df_new =  df_new.withColumn('eat_total_log', F.log(df_new['eat_total']))"
   ]
  },
  {
   "cell_type": "code",
   "execution_count": 105,
   "metadata": {},
   "outputs": [
    {
     "data": {
      "text/plain": [
       "[Row(id=0.03919591171565702, bmi=0.9961655016294716, income=1.6861202513851226, eat_pri=5.951960128232159, eat_sec=1.38225448213815, exercise_freq=2.459796737254517, fastfood_freq=3.2926534664666867, healthfeeling=0.5663065717033204, body=0.051552742758970274, eat_total=2.768732322681003, eat_importance=1.0633921737433807, exer_fast_percentage=4.410719819534873, eat_freq_in_activity=2.207216835501244, eat_time_in_activity=5.951960128232159, exer_fast_percentage_log=0.2795608067576433, eat_time_in_activity_log=0.22327572995963724, eat_total_log=-0.11883762331206665)]"
      ]
     },
     "execution_count": 105,
     "metadata": {},
     "output_type": "execute_result"
    }
   ],
   "source": [
    " df_new.select([skewness(col(c)).alias(c) for c in df_new.columns]).head(1)"
   ]
  },
  {
   "cell_type": "code",
   "execution_count": 106,
   "metadata": {},
   "outputs": [],
   "source": [
    "from pyspark.ml.linalg import Vectors\n",
    "from pyspark.ml.feature import VectorAssembler\n",
    "from pyspark.ml.feature import StringIndexer\n",
    "from pyspark.ml.classification import DecisionTreeClassifier,GBTClassifier,RandomForestClassifier\n",
    "from pyspark.ml import Pipeline\n",
    "from pyspark.ml.evaluation import MulticlassClassificationEvaluator"
   ]
  },
  {
   "cell_type": "code",
   "execution_count": 107,
   "metadata": {},
   "outputs": [
    {
     "data": {
      "text/plain": [
       "['id',\n",
       " 'bmi',\n",
       " 'income',\n",
       " 'eat_pri',\n",
       " 'eat_sec',\n",
       " 'exercise_freq',\n",
       " 'fastfood_freq',\n",
       " 'healthfeeling',\n",
       " 'body',\n",
       " 'eat_total',\n",
       " 'eat_importance',\n",
       " 'exer_fast_percentage',\n",
       " 'eat_freq_in_activity',\n",
       " 'eat_time_in_activity',\n",
       " 'exer_fast_percentage_log',\n",
       " 'eat_time_in_activity_log',\n",
       " 'eat_total_log']"
      ]
     },
     "execution_count": 107,
     "metadata": {},
     "output_type": "execute_result"
    }
   ],
   "source": [
    "df_new.columns"
   ]
  },
  {
   "cell_type": "code",
   "execution_count": 108,
   "metadata": {},
   "outputs": [],
   "source": [
    "assembler = VectorAssembler(\n",
    "  inputCols=[\n",
    " 'income',\n",
    " 'eat_pri',\n",
    " 'eat_sec',\n",
    " 'exercise_freq',\n",
    " 'fastfood_freq',\n",
    " 'healthfeeling',\n",
    " 'eat_total',\n",
    " 'eat_importance',\n",
    " 'exer_fast_percentage',\n",
    " 'eat_freq_in_activity',\n",
    " 'eat_time_in_activity',\n",
    "  ],\n",
    "              outputCol=\"features\")\n",
    "output = assembler.transform(df_new)\n",
    "indexer = StringIndexer(inputCol=\"body\", outputCol=\"bodyIndex\")\n",
    "output_fixed = indexer.fit(output).transform(output)\n",
    "final_data = output_fixed.select(\"features\",'bodyIndex')\n",
    "train_data,test_data = final_data.randomSplit([0.7,0.3])\n",
    "acc_evaluator = MulticlassClassificationEvaluator(labelCol=\"bodyIndex\", predictionCol=\"prediction\", metricName=\"accuracy\")"
   ]
  },
  {
   "cell_type": "markdown",
   "metadata": {},
   "source": [
    "assembler = VectorAssembler(\n",
    "  inputCols=[\n",
    " 'soda',\n",
    " 'alcohol_drink',\n",
    " 'meat',\n",
    " 'milk',\n",
    " 'exer_fast_p',\n",
    " 'eat_total'\n",
    "  ],\n",
    "              outputCol=\"features\")\n",
    "output = assembler.transform(df_new)\n",
    "indexer = StringIndexer(inputCol=\"body\", outputCol=\"bodyIndex\")\n",
    "output_fixed = indexer.fit(output).transform(output)\n",
    "final_data = output_fixed.select(\"features\",'bodyIndex')\n",
    "train_data,test_data = final_data.randomSplit([0.7,0.3])\n",
    "acc_evaluator = MulticlassClassificationEvaluator(labelCol=\"bodyIndex\", predictionCol=\"prediction\", metricName=\"accuracy\")"
   ]
  },
  {
   "cell_type": "code",
   "execution_count": null,
   "metadata": {},
   "outputs": [],
   "source": []
  },
  {
   "cell_type": "code",
   "execution_count": 110,
   "metadata": {},
   "outputs": [],
   "source": [
    "#output.show(5)"
   ]
  },
  {
   "cell_type": "code",
   "execution_count": 111,
   "metadata": {},
   "outputs": [
    {
     "data": {
      "text/plain": [
       "927"
      ]
     },
     "execution_count": 111,
     "metadata": {},
     "output_type": "execute_result"
    }
   ],
   "source": [
    "test_data.count()"
   ]
  },
  {
   "cell_type": "code",
   "execution_count": null,
   "metadata": {},
   "outputs": [],
   "source": []
  },
  {
   "cell_type": "code",
   "execution_count": null,
   "metadata": {},
   "outputs": [],
   "source": []
  },
  {
   "cell_type": "code",
   "execution_count": 112,
   "metadata": {},
   "outputs": [],
   "source": [
    "rfc = RandomForestClassifier(labelCol='bodyIndex',featuresCol='features')"
   ]
  },
  {
   "cell_type": "code",
   "execution_count": 113,
   "metadata": {},
   "outputs": [
    {
     "data": {
      "text/plain": [
       "5"
      ]
     },
     "execution_count": 113,
     "metadata": {},
     "output_type": "execute_result"
    }
   ],
   "source": [
    "rfc.getMaxDepth()"
   ]
  },
  {
   "cell_type": "code",
   "execution_count": 114,
   "metadata": {},
   "outputs": [
    {
     "data": {
      "text/plain": [
       "20"
      ]
     },
     "execution_count": 114,
     "metadata": {},
     "output_type": "execute_result"
    }
   ],
   "source": [
    "rfc.getNumTrees()"
   ]
  },
  {
   "cell_type": "code",
   "execution_count": 115,
   "metadata": {},
   "outputs": [
    {
     "data": {
      "text/plain": [
       "'gini'"
      ]
     },
     "execution_count": 115,
     "metadata": {},
     "output_type": "execute_result"
    }
   ],
   "source": [
    "rfc.getImpurity()"
   ]
  },
  {
   "cell_type": "code",
   "execution_count": 116,
   "metadata": {},
   "outputs": [
    {
     "data": {
      "text/plain": [
       "'auto'"
      ]
     },
     "execution_count": 116,
     "metadata": {},
     "output_type": "execute_result"
    }
   ],
   "source": [
    "rfc.getFeatureSubsetStrategy()"
   ]
  },
  {
   "cell_type": "code",
   "execution_count": 117,
   "metadata": {},
   "outputs": [],
   "source": [
    "a,b,c,d = 5,20,'gini','auto'"
   ]
  },
  {
   "cell_type": "code",
   "execution_count": 118,
   "metadata": {},
   "outputs": [],
   "source": [
    "a,b,c,d = 8,50,'gini','all'"
   ]
  },
  {
   "cell_type": "code",
   "execution_count": 119,
   "metadata": {},
   "outputs": [],
   "source": [
    "a,b,c,d = 8,100,'entropy','auto'"
   ]
  },
  {
   "cell_type": "code",
   "execution_count": 120,
   "metadata": {},
   "outputs": [],
   "source": [
    "a,b,c,d = 8,100,'gini','auto'"
   ]
  },
  {
   "cell_type": "code",
   "execution_count": 121,
   "metadata": {},
   "outputs": [],
   "source": [
    "rfc = RandomForestClassifier(labelCol='bodyIndex'\n",
    "                             ,featuresCol='features'\n",
    "                             ,seed = 25\n",
    "                             ,maxDepth = a\n",
    "                             ,numTrees = b\n",
    "                             ,impurity = c\n",
    "                             ,featureSubsetStrategy = d\n",
    "\n",
    "                            )"
   ]
  },
  {
   "cell_type": "code",
   "execution_count": 122,
   "metadata": {},
   "outputs": [],
   "source": [
    "\n",
    "rfc_model = rfc.fit(train_data)\n",
    "rfc_predictions = rfc_model.transform(test_data)"
   ]
  },
  {
   "cell_type": "code",
   "execution_count": 123,
   "metadata": {},
   "outputs": [],
   "source": [
    "rfc_acc = acc_evaluator.evaluate(rfc_predictions)"
   ]
  },
  {
   "cell_type": "code",
   "execution_count": 124,
   "metadata": {},
   "outputs": [
    {
     "name": "stdout",
     "output_type": "stream",
     "text": [
      "Accuracy: 0.5566343042071198\n",
      "8 100 gini auto\n"
     ]
    }
   ],
   "source": [
    "print ('Accuracy:', rfc_acc)\n",
    "print (a,b,c,d)"
   ]
  },
  {
   "cell_type": "code",
   "execution_count": null,
   "metadata": {},
   "outputs": [],
   "source": []
  },
  {
   "cell_type": "code",
   "execution_count": 125,
   "metadata": {},
   "outputs": [],
   "source": [
    "rfc = RandomForestClassifier(labelCol='bodyIndex'\n",
    "                             ,featuresCol='features'\n",
    "                             ,seed = 25\n",
    "                             ,maxDepth = 8\n",
    "                             ,numTrees = 100\n",
    "                             ,impurity = 'gini'\n",
    "                             ,featureSubsetStrategy = 'auto'\n",
    "                            )"
   ]
  },
  {
   "cell_type": "code",
   "execution_count": 126,
   "metadata": {},
   "outputs": [
    {
     "name": "stdout",
     "output_type": "stream",
     "text": [
      "Accuracy: 0.5566343042071198\n"
     ]
    }
   ],
   "source": [
    "rfc_model = rfc.fit(train_data)\n",
    "rfc_predictions = rfc_model.transform(test_data)\n",
    "print ('Accuracy:', rfc_acc)"
   ]
  },
  {
   "cell_type": "code",
   "execution_count": null,
   "metadata": {
    "scrolled": true
   },
   "outputs": [],
   "source": []
  },
  {
   "cell_type": "code",
   "execution_count": null,
   "metadata": {},
   "outputs": [],
   "source": []
  },
  {
   "cell_type": "code",
   "execution_count": 127,
   "metadata": {},
   "outputs": [
    {
     "name": "stdout",
     "output_type": "stream",
     "text": [
      "Features  11\n",
      "Feature importance (11,[0,1,2,3,4,5,6,7,8,9,10],[0.05934150781538647,0.08676900752338143,0.09759879949902829,0.08387732562061137,0.07650612458531698,0.11476078801659063,0.13754623972449292,0.11290826256172971,0.12106635334125813,0.04181403074864919,0.06781156056355464])\n"
     ]
    }
   ],
   "source": [
    "#print('Nodes:', rfc_model.totalNumNodes)\n",
    "print(\"Features \", rfc_model.numFeatures)\n",
    "print(\"Feature importance\", rfc_model.featureImportances)"
   ]
  },
  {
   "cell_type": "code",
   "execution_count": 128,
   "metadata": {},
   "outputs": [
    {
     "name": "stdout",
     "output_type": "stream",
     "text": [
      "[0.05934151 0.08676901 0.0975988  0.08387733 0.07650612 0.11476079\n",
      " 0.13754624 0.11290826 0.12106635 0.04181403 0.06781156]\n"
     ]
    }
   ],
   "source": [
    "print(rfc_model.featureImportances.values)"
   ]
  },
  {
   "cell_type": "code",
   "execution_count": 129,
   "metadata": {},
   "outputs": [],
   "source": [
    "feature_index= [ 'income',\n",
    " 'eat_pri',\n",
    " 'eat_sec',\n",
    " 'exercise_freq',\n",
    " 'fastfood_freq',\n",
    " 'healthfeeling',\n",
    " 'eat_total',\n",
    " 'eat_importance',\n",
    " 'exer_fast_percentage',\n",
    " 'eat_freq_in_activity',\n",
    " 'eat_time_in_activity']"
   ]
  },
  {
   "cell_type": "code",
   "execution_count": null,
   "metadata": {},
   "outputs": [],
   "source": []
  },
  {
   "cell_type": "code",
   "execution_count": 130,
   "metadata": {},
   "outputs": [
    {
     "name": "stdout",
     "output_type": "stream",
     "text": [
      "eat_total: 0.13754623972449292\n",
      "exer_fast_percentage: 0.12106635334125813\n",
      "healthfeeling: 0.11476078801659063\n",
      "eat_importance: 0.11290826256172971\n",
      "eat_sec: 0.09759879949902829\n",
      "eat_pri: 0.08676900752338143\n",
      "exercise_freq: 0.08387732562061137\n",
      "fastfood_freq: 0.07650612458531698\n",
      "eat_time_in_activity: 0.06781156056355464\n",
      "income: 0.05934150781538647\n",
      "eat_freq_in_activity: 0.04181403074864919\n"
     ]
    }
   ],
   "source": [
    "importance_summary = dict(dict(zip(feature_index, rfc_model.featureImportances.values)))\n",
    "for key, value in sorted(importance_summary.items(), key=lambda item: item[1],reverse=True):\n",
    "    print(\"%s: %s\" % (key, value))"
   ]
  },
  {
   "cell_type": "code",
   "execution_count": 131,
   "metadata": {},
   "outputs": [],
   "source": [
    "ranking_dict = sorted(importance_summary.items(), key=lambda item: item[1],reverse=True)"
   ]
  },
  {
   "cell_type": "code",
   "execution_count": null,
   "metadata": {},
   "outputs": [],
   "source": []
  },
  {
   "cell_type": "code",
   "execution_count": 132,
   "metadata": {},
   "outputs": [],
   "source": [
    "ranking = pd.DataFrame(ranking_dict)"
   ]
  },
  {
   "cell_type": "code",
   "execution_count": null,
   "metadata": {},
   "outputs": [],
   "source": []
  },
  {
   "cell_type": "code",
   "execution_count": 133,
   "metadata": {},
   "outputs": [
    {
     "data": {
      "text/html": [
       "<div>\n",
       "<style scoped>\n",
       "    .dataframe tbody tr th:only-of-type {\n",
       "        vertical-align: middle;\n",
       "    }\n",
       "\n",
       "    .dataframe tbody tr th {\n",
       "        vertical-align: top;\n",
       "    }\n",
       "\n",
       "    .dataframe thead th {\n",
       "        text-align: right;\n",
       "    }\n",
       "</style>\n",
       "<table border=\"1\" class=\"dataframe\">\n",
       "  <thead>\n",
       "    <tr style=\"text-align: right;\">\n",
       "      <th></th>\n",
       "      <th>0</th>\n",
       "      <th>1</th>\n",
       "    </tr>\n",
       "  </thead>\n",
       "  <tbody>\n",
       "    <tr>\n",
       "      <th>0</th>\n",
       "      <td>eat_total</td>\n",
       "      <td>0.137546</td>\n",
       "    </tr>\n",
       "    <tr>\n",
       "      <th>1</th>\n",
       "      <td>exer_fast_percentage</td>\n",
       "      <td>0.121066</td>\n",
       "    </tr>\n",
       "    <tr>\n",
       "      <th>2</th>\n",
       "      <td>healthfeeling</td>\n",
       "      <td>0.114761</td>\n",
       "    </tr>\n",
       "    <tr>\n",
       "      <th>3</th>\n",
       "      <td>eat_importance</td>\n",
       "      <td>0.112908</td>\n",
       "    </tr>\n",
       "    <tr>\n",
       "      <th>4</th>\n",
       "      <td>eat_sec</td>\n",
       "      <td>0.097599</td>\n",
       "    </tr>\n",
       "    <tr>\n",
       "      <th>5</th>\n",
       "      <td>eat_pri</td>\n",
       "      <td>0.086769</td>\n",
       "    </tr>\n",
       "    <tr>\n",
       "      <th>6</th>\n",
       "      <td>exercise_freq</td>\n",
       "      <td>0.083877</td>\n",
       "    </tr>\n",
       "    <tr>\n",
       "      <th>7</th>\n",
       "      <td>fastfood_freq</td>\n",
       "      <td>0.076506</td>\n",
       "    </tr>\n",
       "    <tr>\n",
       "      <th>8</th>\n",
       "      <td>eat_time_in_activity</td>\n",
       "      <td>0.067812</td>\n",
       "    </tr>\n",
       "    <tr>\n",
       "      <th>9</th>\n",
       "      <td>income</td>\n",
       "      <td>0.059342</td>\n",
       "    </tr>\n",
       "    <tr>\n",
       "      <th>10</th>\n",
       "      <td>eat_freq_in_activity</td>\n",
       "      <td>0.041814</td>\n",
       "    </tr>\n",
       "  </tbody>\n",
       "</table>\n",
       "</div>"
      ],
      "text/plain": [
       "                       0         1\n",
       "0              eat_total  0.137546\n",
       "1   exer_fast_percentage  0.121066\n",
       "2          healthfeeling  0.114761\n",
       "3         eat_importance  0.112908\n",
       "4                eat_sec  0.097599\n",
       "5                eat_pri  0.086769\n",
       "6          exercise_freq  0.083877\n",
       "7          fastfood_freq  0.076506\n",
       "8   eat_time_in_activity  0.067812\n",
       "9                 income  0.059342\n",
       "10  eat_freq_in_activity  0.041814"
      ]
     },
     "execution_count": 133,
     "metadata": {},
     "output_type": "execute_result"
    }
   ],
   "source": [
    "ranking"
   ]
  },
  {
   "cell_type": "code",
   "execution_count": 134,
   "metadata": {},
   "outputs": [],
   "source": [
    "ranking.columns = ['features','importance']"
   ]
  },
  {
   "cell_type": "code",
   "execution_count": 135,
   "metadata": {},
   "outputs": [
    {
     "data": {
      "text/plain": [
       "<matplotlib.collections.PathCollection at 0x7fef24329b70>"
      ]
     },
     "execution_count": 135,
     "metadata": {},
     "output_type": "execute_result"
    },
    {
     "data": {
      "image/png": "[encoded data removed]",
      "text/plain": [
       "<Figure size 432x288 with 1 Axes>"
      ]
     },
     "metadata": {},
     "output_type": "display_data"
    }
   ],
   "source": [
    "plt.scatter(ranking.index, ranking.importance)"
   ]
  },
  {
   "cell_type": "code",
   "execution_count": null,
   "metadata": {},
   "outputs": [],
   "source": []
  },
  {
   "cell_type": "code",
   "execution_count": 136,
   "metadata": {},
   "outputs": [],
   "source": [
    "model_output = rfc_predictions.select(\"probability\",\"bodyIndex\",\"prediction\")"
   ]
  },
  {
   "cell_type": "code",
   "execution_count": 137,
   "metadata": {},
   "outputs": [
    {
     "name": "stdout",
     "output_type": "stream",
     "text": [
      "+--------------------+---------+----------+\n",
      "|         probability|bodyIndex|prediction|\n",
      "+--------------------+---------+----------+\n",
      "|[0.30979016291110...|      0.0|       1.0|\n",
      "|[0.13151064888045...|      3.0|       2.0|\n",
      "|[0.17802862511061...|      0.0|       3.0|\n",
      "|[0.32067734239485...|      3.0|       1.0|\n",
      "|[0.31022644868467...|      1.0|       1.0|\n",
      "|[0.51674366362028...|      0.0|       0.0|\n",
      "|[0.16230459850211...|      1.0|       3.0|\n",
      "|[0.58873608517113...|      0.0|       0.0|\n",
      "|[0.43169356542282...|      1.0|       0.0|\n",
      "|[0.07061561711826...|      3.0|       2.0|\n",
      "+--------------------+---------+----------+\n",
      "only showing top 10 rows\n",
      "\n"
     ]
    }
   ],
   "source": [
    "model_output.show(10)"
   ]
  },
  {
   "cell_type": "code",
   "execution_count": 138,
   "metadata": {},
   "outputs": [
    {
     "data": {
      "text/plain": [
       "927"
      ]
     },
     "execution_count": 138,
     "metadata": {},
     "output_type": "execute_result"
    }
   ],
   "source": [
    "model_output.count()"
   ]
  },
  {
   "cell_type": "code",
   "execution_count": 139,
   "metadata": {},
   "outputs": [
    {
     "name": "stdout",
     "output_type": "stream",
     "text": [
      "283 250 205 189\n"
     ]
    }
   ],
   "source": [
    "print (model_output[model_output['bodyIndex']==0].count(),\n",
    "model_output[model_output['bodyIndex']==1].count(),\n",
    "model_output[model_output['bodyIndex']==2].count(),\n",
    "model_output[model_output['bodyIndex']==3].count())"
   ]
  },
  {
   "cell_type": "code",
   "execution_count": 140,
   "metadata": {},
   "outputs": [
    {
     "name": "stdout",
     "output_type": "stream",
     "text": [
      "320 181 236 190\n"
     ]
    }
   ],
   "source": [
    "print (model_output[model_output['prediction']==0].count(),\n",
    "model_output[model_output['prediction']==1].count(),\n",
    "model_output[model_output['prediction']==2].count(),\n",
    "model_output[model_output['prediction']==3].count())"
   ]
  },
  {
   "cell_type": "code",
   "execution_count": null,
   "metadata": {},
   "outputs": [],
   "source": []
  },
  {
   "cell_type": "code",
   "execution_count": null,
   "metadata": {},
   "outputs": [],
   "source": []
  },
  {
   "cell_type": "code",
   "execution_count": 141,
   "metadata": {},
   "outputs": [
    {
     "name": "stdout",
     "output_type": "stream",
     "text": [
      "root\n",
      " |-- features: vector (nullable = true)\n",
      " |-- bodyIndex: double (nullable = true)\n",
      " |-- rawPrediction: vector (nullable = true)\n",
      " |-- probability: vector (nullable = true)\n",
      " |-- prediction: double (nullable = true)\n",
      "\n"
     ]
    }
   ],
   "source": [
    "rfc_predictions.printSchema()"
   ]
  },
  {
   "cell_type": "code",
   "execution_count": 142,
   "metadata": {},
   "outputs": [
    {
     "name": "stdout",
     "output_type": "stream",
     "text": [
      "+--------------------+---------+--------------------+--------------------+----------+\n",
      "|            features|bodyIndex|       rawPrediction|         probability|prediction|\n",
      "+--------------------+---------+--------------------+--------------------+----------+\n",
      "|[1.0,1.0,15.0,7.0...|      0.0|[30.9790162911100...|[0.30979016291110...|       1.0|\n",
      "|[1.0,1.0,20.0,2.0...|      3.0|[13.1510648880458...|[0.13151064888045...|       2.0|\n",
      "|[1.0,1.0,25.0,6.0...|      0.0|[17.8028625110619...|[0.17802862511061...|       3.0|\n",
      "|[1.0,1.0,25.0,7.0...|      3.0|[32.0677342394856...|[0.32067734239485...|       1.0|\n",
      "|[1.0,1.0,25.0,12....|      1.0|[31.0226448684675...|[0.31022644868467...|       1.0|\n",
      "+--------------------+---------+--------------------+--------------------+----------+\n",
      "only showing top 5 rows\n",
      "\n"
     ]
    }
   ],
   "source": [
    "rfc_predictions.show(5)"
   ]
  },
  {
   "cell_type": "code",
   "execution_count": 143,
   "metadata": {},
   "outputs": [
    {
     "data": {
      "text/plain": [
       "RandomForestClassificationModel (uid=rfc_2b99221caefc) with 100 trees"
      ]
     },
     "execution_count": 143,
     "metadata": {},
     "output_type": "execute_result"
    }
   ],
   "source": [
    "rfc_model"
   ]
  },
  {
   "cell_type": "code",
   "execution_count": 144,
   "metadata": {
    "scrolled": true
   },
   "outputs": [],
   "source": [
    "#rfc_model.trees"
   ]
  },
  {
   "cell_type": "code",
   "execution_count": 145,
   "metadata": {
    "scrolled": true
   },
   "outputs": [
    {
     "data": {
      "text/plain": [
       "DecisionTreeClassificationModel (uid=dtc_6bc0ab8e0d46) of depth 8 with 221 nodes"
      ]
     },
     "execution_count": 145,
     "metadata": {},
     "output_type": "execute_result"
    }
   ],
   "source": [
    "rfc_model.trees[0]"
   ]
  },
  {
   "cell_type": "code",
   "execution_count": 146,
   "metadata": {},
   "outputs": [],
   "source": [
    "# Select (prediction, true label) and compute test error. \n",
    "acc_evaluator_p= MulticlassClassificationEvaluator(labelCol=\"bodyIndex\", predictionCol=\"prediction\", metricName=\"weightedPrecision\")"
   ]
  },
  {
   "cell_type": "code",
   "execution_count": 147,
   "metadata": {},
   "outputs": [],
   "source": [
    "# Select (prediction, true label) and compute test error. \n",
    "acc_evaluator = MulticlassClassificationEvaluator(labelCol=\"bodyIndex\", predictionCol=\"prediction\", metricName=\"accuracy\")"
   ]
  },
  {
   "cell_type": "code",
   "execution_count": null,
   "metadata": {},
   "outputs": [],
   "source": []
  },
  {
   "cell_type": "code",
   "execution_count": 148,
   "metadata": {},
   "outputs": [
    {
     "data": {
      "text/plain": [
       "Param(parent='MulticlassClassificationEvaluator_454cb5235ee12018df8b', name='metricName', doc='metric name in evaluation (f1|weightedPrecision|weightedRecall|accuracy)')"
      ]
     },
     "execution_count": 148,
     "metadata": {},
     "output_type": "execute_result"
    }
   ],
   "source": [
    "acc_evaluator.metricName"
   ]
  },
  {
   "cell_type": "code",
   "execution_count": null,
   "metadata": {},
   "outputs": [],
   "source": []
  },
  {
   "cell_type": "code",
   "execution_count": null,
   "metadata": {},
   "outputs": [],
   "source": []
  },
  {
   "cell_type": "code",
   "execution_count": 149,
   "metadata": {},
   "outputs": [
    {
     "name": "stdout",
     "output_type": "stream",
     "text": [
      "WeightedPrecision:  0.5375036993413238\n",
      "AccuracyL  0.5566343042071198\n"
     ]
    }
   ],
   "source": [
    "rfc_precision= acc_evaluator_p.evaluate(rfc_predictions)\n",
    "rfc_acc = acc_evaluator.evaluate(rfc_predictions)\n",
    "print (\"WeightedPrecision: \",rfc_precision)\n",
    "print (\"AccuracyL \", rfc_acc)"
   ]
  },
  {
   "cell_type": "code",
   "execution_count": null,
   "metadata": {},
   "outputs": [],
   "source": []
  },
  {
   "cell_type": "code",
   "execution_count": 150,
   "metadata": {
    "scrolled": true
   },
   "outputs": [],
   "source": [
    "#print(rfc.explainParams())"
   ]
  },
  {
   "cell_type": "code",
   "execution_count": null,
   "metadata": {},
   "outputs": [],
   "source": []
  },
  {
   "cell_type": "code",
   "execution_count": null,
   "metadata": {},
   "outputs": [],
   "source": []
  },
  {
   "cell_type": "code",
   "execution_count": null,
   "metadata": {},
   "outputs": [],
   "source": []
  },
  {
   "cell_type": "code",
   "execution_count": 151,
   "metadata": {},
   "outputs": [],
   "source": [
    "dtc = DecisionTreeClassifier(labelCol='bodyIndex',featuresCol='features')\n",
    "\n",
    "#gbt = GBTClassifier(labelCol='bodyIndex',featuresCol='features')"
   ]
  },
  {
   "cell_type": "code",
   "execution_count": 152,
   "metadata": {},
   "outputs": [],
   "source": [
    "dtc_model = dtc.fit(train_data)\n",
    "\n",
    "#gbt_model = gbt.fit(train_data)"
   ]
  },
  {
   "cell_type": "code",
   "execution_count": 153,
   "metadata": {},
   "outputs": [],
   "source": [
    "dtc_predictions = dtc_model.transform(test_data)\n",
    "\n",
    "#gbt_predictions = gbt_model.transform(test_data)"
   ]
  },
  {
   "cell_type": "code",
   "execution_count": 154,
   "metadata": {},
   "outputs": [],
   "source": [
    "dtc_acc = acc_evaluator.evaluate(dtc_predictions)\n"
   ]
  },
  {
   "cell_type": "code",
   "execution_count": 155,
   "metadata": {},
   "outputs": [
    {
     "data": {
      "text/plain": [
       "0.43797195253505933"
      ]
     },
     "execution_count": 155,
     "metadata": {},
     "output_type": "execute_result"
    }
   ],
   "source": [
    "dtc_acc"
   ]
  },
  {
   "cell_type": "code",
   "execution_count": 156,
   "metadata": {},
   "outputs": [
    {
     "data": {
      "text/plain": [
       "SparseVector(11, {0: 0.0794, 1: 0.0852, 3: 0.0982, 4: 0.0748, 5: 0.2086, 6: 0.2145, 7: 0.1488, 8: 0.0904})"
      ]
     },
     "execution_count": 156,
     "metadata": {},
     "output_type": "execute_result"
    }
   ],
   "source": [
    "dtc_model.featureImportances"
   ]
  },
  {
   "cell_type": "code",
   "execution_count": null,
   "metadata": {},
   "outputs": [],
   "source": []
  },
  {
   "cell_type": "code",
   "execution_count": null,
   "metadata": {},
   "outputs": [],
   "source": []
  },
  {
   "cell_type": "code",
   "execution_count": 157,
   "metadata": {},
   "outputs": [],
   "source": [
    "from pyspark.ml.classification import LogisticRegression"
   ]
  },
  {
   "cell_type": "code",
   "execution_count": 158,
   "metadata": {},
   "outputs": [],
   "source": [
    "log_reg = LogisticRegression(labelCol='bodyIndex',featuresCol='features')"
   ]
  },
  {
   "cell_type": "code",
   "execution_count": 159,
   "metadata": {},
   "outputs": [
    {
     "data": {
      "text/plain": [
       "0.0"
      ]
     },
     "execution_count": 159,
     "metadata": {},
     "output_type": "execute_result"
    }
   ],
   "source": [
    "log_reg.getElasticNetParam()"
   ]
  },
  {
   "cell_type": "code",
   "execution_count": 160,
   "metadata": {},
   "outputs": [
    {
     "data": {
      "text/plain": [
       "0.0"
      ]
     },
     "execution_count": 160,
     "metadata": {},
     "output_type": "execute_result"
    }
   ],
   "source": [
    "log_reg.getRegParam()"
   ]
  },
  {
   "cell_type": "code",
   "execution_count": 161,
   "metadata": {},
   "outputs": [
    {
     "data": {
      "text/plain": [
       "100"
      ]
     },
     "execution_count": 161,
     "metadata": {},
     "output_type": "execute_result"
    }
   ],
   "source": [
    "log_reg.getMaxIter()"
   ]
  },
  {
   "cell_type": "code",
   "execution_count": 162,
   "metadata": {},
   "outputs": [],
   "source": [
    "a,b,c= 50,0,0.2"
   ]
  },
  {
   "cell_type": "code",
   "execution_count": 163,
   "metadata": {},
   "outputs": [],
   "source": [
    "assembler = VectorAssembler(\n",
    "  inputCols=[\n",
    " 'income',\n",
    " 'eat_pri',\n",
    " 'eat_sec',\n",
    " 'exercise_freq',\n",
    " 'fastfood_freq',\n",
    " 'healthfeeling',\n",
    " 'eat_total',\n",
    " 'eat_importance',\n",
    " 'exer_fast_percentage_log',\n",
    " 'eat_time_in_activity_log',\n",
    " 'eat_total_log'\n",
    "  ],\n",
    "              outputCol=\"features\")\n",
    "\n",
    "output = assembler.transform(df_new)\n",
    "indexer = StringIndexer(inputCol=\"body\", outputCol=\"bodyIndex\")\n",
    "output_fixed = indexer.fit(output).transform(output)\n",
    "final_data = output_fixed.select(\"features\",'bodyIndex')\n",
    "train_data,test_data = final_data.randomSplit([0.7,0.3])"
   ]
  },
  {
   "cell_type": "code",
   "execution_count": 164,
   "metadata": {},
   "outputs": [
    {
     "data": {
      "text/plain": [
       "864"
      ]
     },
     "execution_count": 164,
     "metadata": {},
     "output_type": "execute_result"
    }
   ],
   "source": [
    "test_data.count()"
   ]
  },
  {
   "cell_type": "code",
   "execution_count": 165,
   "metadata": {},
   "outputs": [],
   "source": [
    "log_reg = LogisticRegression(labelCol='bodyIndex',featuresCol='features',family=\"multinomial\"\n",
    "                             ,maxIter=a\n",
    "                             ,regParam=b\n",
    "                             ,elasticNetParam=c)"
   ]
  },
  {
   "cell_type": "code",
   "execution_count": 166,
   "metadata": {},
   "outputs": [],
   "source": [
    "#pipeline = Pipeline(stages=[log_reg])\n",
    "fit_model = log_reg.fit(train_data)\n",
    "results = fit_model.transform(test_data)\n",
    "auc_evaluator = MulticlassClassificationEvaluator(labelCol=\"bodyIndex\", predictionCol=\"prediction\",metricName=\"accuracy\")\n",
    "log_reg_acc = auc_evaluator.evaluate(results)"
   ]
  },
  {
   "cell_type": "code",
   "execution_count": 167,
   "metadata": {},
   "outputs": [
    {
     "name": "stdout",
     "output_type": "stream",
     "text": [
      "Accuracy: 0.3726851851851852\n",
      "50 0 0.2\n"
     ]
    }
   ],
   "source": [
    "print ('Accuracy:', log_reg_acc)\n",
    "print (a,b,c)"
   ]
  },
  {
   "cell_type": "code",
   "execution_count": 168,
   "metadata": {},
   "outputs": [],
   "source": [
    "log_reg = LogisticRegression(labelCol='bodyIndex',featuresCol='features',family=\"multinomial\"\n",
    "                             ,maxIter= 50\n",
    "                             ,regParam=0\n",
    "                             ,elasticNetParam=0.2)"
   ]
  },
  {
   "cell_type": "code",
   "execution_count": 169,
   "metadata": {},
   "outputs": [
    {
     "name": "stdout",
     "output_type": "stream",
     "text": [
      "Accuracy: 0.3726851851851852\n"
     ]
    }
   ],
   "source": [
    "#pipeline = Pipeline(stages=[log_reg])\n",
    "reg_model = log_reg.fit(train_data)\n",
    "reg_predictions = reg_model.transform(test_data)\n",
    "auc_evaluator = MulticlassClassificationEvaluator(labelCol=\"bodyIndex\", predictionCol=\"prediction\",metricName=\"accuracy\")\n",
    "log_reg_acc = auc_evaluator.evaluate(reg_predictions)\n",
    "print ('Accuracy:', log_reg_acc)\n"
   ]
  },
  {
   "cell_type": "code",
   "execution_count": 170,
   "metadata": {},
   "outputs": [],
   "source": [
    "model_output2 = reg_predictions.select(\"probability\",\"bodyIndex\",\"prediction\")"
   ]
  },
  {
   "cell_type": "code",
   "execution_count": 171,
   "metadata": {},
   "outputs": [
    {
     "name": "stdout",
     "output_type": "stream",
     "text": [
      "+--------------------+---------+----------+\n",
      "|         probability|bodyIndex|prediction|\n",
      "+--------------------+---------+----------+\n",
      "|[0.19774447120494...|      3.0|       2.0|\n",
      "|[0.46305850144667...|      3.0|       0.0|\n",
      "|[0.20789103804531...|      3.0|       3.0|\n",
      "|[0.43745937376453...|      0.0|       0.0|\n",
      "|[0.44551741198464...|      1.0|       0.0|\n",
      "|[0.52531330644273...|      0.0|       0.0|\n",
      "|[0.32834740613308...|      1.0|       0.0|\n",
      "|[0.45928331857093...|      1.0|       0.0|\n",
      "|[0.43315309866221...|      0.0|       0.0|\n",
      "|[0.29303635157437...|      1.0|       3.0|\n",
      "+--------------------+---------+----------+\n",
      "only showing top 10 rows\n",
      "\n"
     ]
    }
   ],
   "source": [
    "model_output2.show(10)"
   ]
  },
  {
   "cell_type": "code",
   "execution_count": 172,
   "metadata": {},
   "outputs": [
    {
     "data": {
      "text/plain": [
       "864"
      ]
     },
     "execution_count": 172,
     "metadata": {},
     "output_type": "execute_result"
    }
   ],
   "source": [
    "model_output2.count()"
   ]
  },
  {
   "cell_type": "code",
   "execution_count": 173,
   "metadata": {},
   "outputs": [
    {
     "name": "stdout",
     "output_type": "stream",
     "text": [
      "404 209 88 163\n"
     ]
    }
   ],
   "source": [
    "print (model_output2[model_output2['prediction']==0].count(),\n",
    "model_output2[model_output2['prediction']==1].count(),\n",
    "model_output2[model_output2['prediction']==2].count(),\n",
    "model_output2[model_output2['prediction']==3].count())"
   ]
  },
  {
   "cell_type": "code",
   "execution_count": 174,
   "metadata": {},
   "outputs": [
    {
     "name": "stdout",
     "output_type": "stream",
     "text": [
      "WeightedPrecision:  0.37727886350314344\n",
      "AccuracyL  0.3726851851851852\n"
     ]
    }
   ],
   "source": [
    "reg_precision= acc_evaluator_p.evaluate(reg_predictions)\n",
    "reg_acc = acc_evaluator.evaluate(reg_predictions)\n",
    "print (\"WeightedPrecision: \",reg_precision)\n",
    "print (\"AccuracyL \", reg_acc)"
   ]
  },
  {
   "cell_type": "code",
   "execution_count": 175,
   "metadata": {},
   "outputs": [
    {
     "data": {
      "text/plain": [
       "array([-5.04367768e-02, -2.05910854e-03,  2.96631675e-03,  4.35660348e-02,\n",
       "       -1.62513934e-02, -3.74156221e-01,  5.85154918e-05,  8.29101853e-01,\n",
       "       -7.94299511e-02, -1.05477335e-01,  1.77673934e-01, -2.17040865e-02,\n",
       "        7.41564866e-04, -4.24807801e-03, -2.37882866e-02,  9.70303096e-03,\n",
       "        2.12390407e-02, -1.36865353e-03, -1.21450582e+00, -1.21510028e-02,\n",
       "        2.22072788e-01,  1.71714557e-01,  1.06283927e-01, -1.28095547e-03,\n",
       "        3.25249630e-03,  1.25533480e-02,  1.55424489e-02, -1.55364154e-01,\n",
       "        6.32755076e-04,  1.03288567e+00,  5.44410503e-02, -1.18743765e-01,\n",
       "       -2.91228474e-01, -3.41430638e-02,  2.59849914e-03, -1.97073504e-03,\n",
       "       -3.23310962e-02, -8.99408644e-03,  5.08281334e-01,  6.77382961e-04,\n",
       "       -6.47481701e-01,  3.71399036e-02,  2.14831243e-03, -5.81600165e-02])"
      ]
     },
     "execution_count": 175,
     "metadata": {},
     "output_type": "execute_result"
    }
   ],
   "source": [
    "reg_model.coefficientMatrix.values"
   ]
  },
  {
   "cell_type": "code",
   "execution_count": 176,
   "metadata": {},
   "outputs": [
    {
     "data": {
      "text/plain": [
       "[<matplotlib.lines.Line2D at 0x7fef244095f8>]"
      ]
     },
     "execution_count": 176,
     "metadata": {},
     "output_type": "execute_result"
    },
    {
     "data": {
      "image/png": "[encoded data removed]",
      "text/plain": [
       "<Figure size 432x288 with 1 Axes>"
      ]
     },
     "metadata": {},
     "output_type": "display_data"
    }
   ],
   "source": [
    "plt.plot(reg_model.coefficientMatrix.values)"
   ]
  },
  {
   "cell_type": "code",
   "execution_count": null,
   "metadata": {},
   "outputs": [],
   "source": []
  },
  {
   "cell_type": "code",
   "execution_count": 177,
   "metadata": {},
   "outputs": [],
   "source": [
    "df_plot = df_new.toPandas()"
   ]
  },
  {
   "cell_type": "code",
   "execution_count": 178,
   "metadata": {},
   "outputs": [],
   "source": [
    "df_agg = df_plot.groupby('body').agg('mean')"
   ]
  },
  {
   "cell_type": "code",
   "execution_count": 179,
   "metadata": {},
   "outputs": [],
   "source": [
    "df_agg = df_agg.reset_index()"
   ]
  },
  {
   "cell_type": "code",
   "execution_count": 180,
   "metadata": {},
   "outputs": [
    {
     "data": {
      "text/plain": [
       "<matplotlib.axes._subplots.AxesSubplot at 0x7fef243466a0>"
      ]
     },
     "execution_count": 180,
     "metadata": {},
     "output_type": "execute_result"
    },
    {
     "data": {
      "image/png": "[encoded data removed]",
      "text/plain": [
       "<Figure size 432x288 with 1 Axes>"
      ]
     },
     "metadata": {},
     "output_type": "display_data"
    }
   ],
   "source": [
    "df_plot.boxplot(column = 'eat_total',by = 'body')"
   ]
  },
  {
   "cell_type": "code",
   "execution_count": 181,
   "metadata": {},
   "outputs": [
    {
     "data": {
      "text/plain": [
       "0    81.707317\n",
       "1    92.564858\n",
       "2    88.553687\n",
       "3    90.801613\n",
       "Name: eat_total, dtype: float64"
      ]
     },
     "execution_count": 181,
     "metadata": {},
     "output_type": "execute_result"
    }
   ],
   "source": [
    "df_agg.eat_total"
   ]
  },
  {
   "cell_type": "code",
   "execution_count": null,
   "metadata": {},
   "outputs": [],
   "source": []
  },
  {
   "cell_type": "code",
   "execution_count": 182,
   "metadata": {},
   "outputs": [
    {
     "data": {
      "text/plain": [
       "<matplotlib.collections.PathCollection at 0x7fef24bcd860>"
      ]
     },
     "execution_count": 182,
     "metadata": {},
     "output_type": "execute_result"
    },
    {
     "data": {
      "image/png": "[encoded data removed]",
      "text/plain": [
       "<Figure size 432x288 with 1 Axes>"
      ]
     },
     "metadata": {},
     "output_type": "display_data"
    }
   ],
   "source": [
    "plt.scatter(df_plot.body, df_plot.exer_fast_percentage)"
   ]
  },
  {
   "cell_type": "code",
   "execution_count": 183,
   "metadata": {},
   "outputs": [
    {
     "data": {
      "text/plain": [
       "<matplotlib.axes._subplots.AxesSubplot at 0x7fef24289780>"
      ]
     },
     "execution_count": 183,
     "metadata": {},
     "output_type": "execute_result"
    },
    {
     "data": {
      "image/png": "[encoded data removed]",
      "text/plain": [
       "<Figure size 432x288 with 1 Axes>"
      ]
     },
     "metadata": {},
     "output_type": "display_data"
    }
   ],
   "source": [
    "df_plot.boxplot(column = 'exer_fast_percentage',by = 'body')\n"
   ]
  },
  {
   "cell_type": "code",
   "execution_count": 184,
   "metadata": {},
   "outputs": [
    {
     "data": {
      "text/plain": [
       "0    0.953602\n",
       "1    0.885089\n",
       "2    1.009543\n",
       "3    1.090187\n",
       "Name: exer_fast_percentage, dtype: float64"
      ]
     },
     "execution_count": 184,
     "metadata": {},
     "output_type": "execute_result"
    }
   ],
   "source": [
    "df_agg.exer_fast_percentage"
   ]
  },
  {
   "cell_type": "code",
   "execution_count": null,
   "metadata": {},
   "outputs": [],
   "source": []
  },
  {
   "cell_type": "code",
   "execution_count": 185,
   "metadata": {},
   "outputs": [
    {
     "data": {
      "text/plain": [
       "<matplotlib.collections.PathCollection at 0x7fef24454b38>"
      ]
     },
     "execution_count": 185,
     "metadata": {},
     "output_type": "execute_result"
    },
    {
     "data": {
      "image/png": "[encoded data removed]",
      "text/plain": [
       "<Figure size 432x288 with 1 Axes>"
      ]
     },
     "metadata": {},
     "output_type": "display_data"
    }
   ],
   "source": [
    "\n",
    "plt.scatter(df_plot.body, df_plot.eat_importance)"
   ]
  },
  {
   "cell_type": "code",
   "execution_count": 186,
   "metadata": {},
   "outputs": [
    {
     "data": {
      "text/plain": [
       "0    0.272800\n",
       "1    0.266730\n",
       "2    0.269066\n",
       "3    0.275935\n",
       "Name: eat_importance, dtype: float64"
      ]
     },
     "execution_count": 186,
     "metadata": {},
     "output_type": "execute_result"
    }
   ],
   "source": [
    "df_agg.eat_importance"
   ]
  },
  {
   "cell_type": "code",
   "execution_count": 187,
   "metadata": {},
   "outputs": [],
   "source": [
    "#plt.bar(df_plot.body, df_plot.healthfeeling)"
   ]
  },
  {
   "cell_type": "code",
   "execution_count": 188,
   "metadata": {},
   "outputs": [
    {
     "data": {
      "text/plain": [
       "(array([[192.,   0., 288.,   0.,   0., 112.,   0.,  48.,   0.,  16.],\n",
       "        [  0.,   0.,   0.,   0.,   0.,   0.,   0.,   0.,   0.,   0.],\n",
       "        [  0.,   0.,   0.,   0.,   0.,   0.,   0.,   0.,   0.,   0.],\n",
       "        [303.,   0., 349.,   0.,   0., 160.,   0.,  32.,   0.,   4.],\n",
       "        [  0.,   0.,   0.,   0.,   0.,   0.,   0.,   0.,   0.,   0.],\n",
       "        [  0.,   0.,   0.,   0.,   0.,   0.,   0.,   0.,   0.,   0.],\n",
       "        [148.,   0., 377.,   0.,   0., 202.,   0.,  40.,   0.,   6.],\n",
       "        [  0.,   0.,   0.,   0.,   0.,   0.,   0.,   0.,   0.,   0.],\n",
       "        [  0.,   0.,   0.,   0.,   0.,   0.,   0.,   0.,   0.,   0.],\n",
       "        [ 60.,   0., 186.,   0.,   0., 259.,   0.,  93.,   0.,  22.]]),\n",
       " array([0. , 0.3, 0.6, 0.9, 1.2, 1.5, 1.8, 2.1, 2.4, 2.7, 3. ]),\n",
       " array([1. , 1.4, 1.8, 2.2, 2.6, 3. , 3.4, 3.8, 4.2, 4.6, 5. ]),\n",
       " <matplotlib.image.AxesImage at 0x7fef242913c8>)"
      ]
     },
     "execution_count": 188,
     "metadata": {},
     "output_type": "execute_result"
    },
    {
     "data": {
      "image/png": "[encoded data removed]",
      "text/plain": [
       "<Figure size 432x288 with 1 Axes>"
      ]
     },
     "metadata": {},
     "output_type": "display_data"
    }
   ],
   "source": [
    "plt.hist2d(df_plot.body, df_plot.healthfeeling)"
   ]
  },
  {
   "cell_type": "code",
   "execution_count": null,
   "metadata": {},
   "outputs": [],
   "source": []
  },
  {
   "cell_type": "code",
   "execution_count": 189,
   "metadata": {},
   "outputs": [],
   "source": [
    "mmm = model_output.toPandas()"
   ]
  },
  {
   "cell_type": "code",
   "execution_count": 190,
   "metadata": {},
   "outputs": [
    {
     "data": {
      "text/plain": [
       "(array([[154.,   0.,   0.,  67.,   0.,   0.,  17.,   0.,   0.,  45.],\n",
       "        [  0.,   0.,   0.,   0.,   0.,   0.,   0.,   0.,   0.,   0.],\n",
       "        [  0.,   0.,   0.,   0.,   0.,   0.,   0.,   0.,   0.,   0.],\n",
       "        [113.,   0.,   0.,  72.,   0.,   0.,   5.,   0.,   0.,  60.],\n",
       "        [  0.,   0.,   0.,   0.,   0.,   0.,   0.,   0.,   0.,   0.],\n",
       "        [  0.,   0.,   0.,   0.,   0.,   0.,   0.,   0.,   0.,   0.],\n",
       "        [  0.,   0.,   0.,   0.,   0.,   0., 205.,   0.,   0.,   0.],\n",
       "        [  0.,   0.,   0.,   0.,   0.,   0.,   0.,   0.,   0.,   0.],\n",
       "        [  0.,   0.,   0.,   0.,   0.,   0.,   0.,   0.,   0.,   0.],\n",
       "        [ 53.,   0.,   0.,  42.,   0.,   0.,   9.,   0.,   0.,  85.]]),\n",
       " array([0. , 0.3, 0.6, 0.9, 1.2, 1.5, 1.8, 2.1, 2.4, 2.7, 3. ]),\n",
       " array([0. , 0.3, 0.6, 0.9, 1.2, 1.5, 1.8, 2.1, 2.4, 2.7, 3. ]),\n",
       " <matplotlib.image.AxesImage at 0x7fef242cd320>)"
      ]
     },
     "execution_count": 190,
     "metadata": {},
     "output_type": "execute_result"
    },
    {
     "data": {
      "image/png": "[encoded data removed]",
      "text/plain": [
       "<Figure size 432x288 with 1 Axes>"
      ]
     },
     "metadata": {},
     "output_type": "display_data"
    }
   ],
   "source": [
    "plt.hist2d(mmm.bodyIndex, mmm.prediction)"
   ]
  },
  {
   "cell_type": "code",
   "execution_count": null,
   "metadata": {},
   "outputs": [],
   "source": []
  },
  {
   "cell_type": "code",
   "execution_count": null,
   "metadata": {},
   "outputs": [],
   "source": []
  },
  {
   "cell_type": "code",
   "execution_count": null,
   "metadata": {},
   "outputs": [],
   "source": []
  },
  {
   "cell_type": "code",
   "execution_count": null,
   "metadata": {},
   "outputs": [],
   "source": []
  },
  {
   "cell_type": "code",
   "execution_count": 191,
   "metadata": {},
   "outputs": [],
   "source": [
    "#df_plot = df2.select('erbmi','ertseat','ertpreat','euexfreq','eufastfdfrq','eudietsoda','eudrink','eumeat','eumilk').toPandas()"
   ]
  },
  {
   "cell_type": "code",
   "execution_count": null,
   "metadata": {},
   "outputs": [],
   "source": []
  },
  {
   "cell_type": "code",
   "execution_count": null,
   "metadata": {},
   "outputs": [],
   "source": []
  },
  {
   "cell_type": "code",
   "execution_count": null,
   "metadata": {},
   "outputs": [],
   "source": []
  },
  {
   "cell_type": "code",
   "execution_count": null,
   "metadata": {},
   "outputs": [],
   "source": []
  }
 ],
 "metadata": {
  "kernelspec": {
   "display_name": "Python 3",
   "language": "python",
   "name": "python3"
  },
  "language_info": {
   "codemirror_mode": {
    "name": "ipython",
    "version": 3
   },
   "file_extension": ".py",
   "mimetype": "text/x-python",
   "name": "python",
   "nbconvert_exporter": "python",
   "pygments_lexer": "ipython3",
   "version": "3.5.2"
  }
 },
 "nbformat": 4,
 "nbformat_minor": 2
}
